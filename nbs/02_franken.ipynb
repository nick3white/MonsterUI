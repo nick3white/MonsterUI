{
  "cells": [
    {
      "cell_type": "markdown",
      "id": "5bfbea37",
      "metadata": {},
      "source": [
        "## Frankenui UI\n",
        "\n",
        "> Helpers and components for DaisyUI style stuff"
      ]
    },
    {
      "cell_type": "markdown",
      "id": "5fef8136",
      "metadata": {},
      "source": [
        "Based on the minimal context shown, FrankenUI appears to be a collection of helper utilities and components designed to work with DaisyUI styling. DaisyUI is a popular plugin for Tailwind CSS that provides pre-built components and utility classes.\n",
        "\n",
        "However, I don't see enough context to provide specific details about what FrankenUI actually includes or implements. Would you like me to help explore its specific features or implementation?"
      ]
    },
    {
      "cell_type": "code",
      "execution_count": null,
      "id": "7e3b2231",
      "metadata": {},
      "outputs": [],
      "source": [
        "#| default_exp franken"
      ]
    },
    {
      "cell_type": "code",
      "execution_count": null,
      "id": "a9b7e605",
      "metadata": {},
      "outputs": [],
      "source": [
        "#| export\n",
        "import fasthtml.common as fh\n",
        "from monsterui.foundations import *\n",
        "from fasthtml.common import Div, P, Span, FT\n",
        "from enum import Enum, auto\n",
        "from fasthtml.components import Uk_select,Uk_input_tag,Uk_icon,Uk_input_range, Uk_chart\n",
        "from functools import partial\n",
        "from itertools import zip_longest\n",
        "from typing import Union, Tuple, Optional, Sequence\n",
        "from fastcore.all import *\n",
        "import copy, re, httpx, os\n",
        "import pathlib\n",
        "from mistletoe.html_renderer import HTMLRenderer\n",
        "from mistletoe.span_token import Image\n",
        "import mistletoe\n",
        "from lxml import html, etree\n",
        "import fasthtml.components as fh_comp\n",
        "import json"
      ]
    },
    {
      "cell_type": "code",
      "execution_count": null,
      "id": "e5ef9de1",
      "metadata": {},
      "outputs": [
        {
          "data": {
            "text/html": [
              "\n",
              "<script>\n",
              "document.body.addEventListener('htmx:configRequest', (event) => {\n",
              "    if(event.detail.path.includes('://')) return;\n",
              "    htmx.config.selfRequestsOnly=false;\n",
              "    event.detail.path = `${location.protocol}//${location.hostname}:8000${event.detail.path}`;\n",
              "});\n",
              "</script>"
            ],
            "text/plain": [
              "<IPython.core.display.HTML object>"
            ]
          },
          "metadata": {},
          "output_type": "display_data"
        }
      ],
      "source": [
        "#| hide\n",
        "from fasthtml.jupyter import *\n",
        "from IPython.display import HTML, Markdown, Image\n",
        "from monsterui.core import Theme\n",
        "\n",
        "if 'server' in globals(): server.stop()\n",
        "#| export\n",
        "app,rt = fh.fast_app(pico=False, hdrs=(Theme.violet.headers()),\n",
        "                  static_path=os.path.abspath('.'), nb_hdrs=False,\n",
        "                  bodykw={\"class\":\"uk-overflow-auto min-h-screen\"})\n",
        "server = JupyUvi(app)\n",
        "Show = partial(HTMX, app=app)"
      ]
    },
    {
      "cell_type": "markdown",
      "id": "4d6b7aca",
      "metadata": {},
      "source": [
        "## Text Style"
      ]
    },
    {
      "cell_type": "code",
      "execution_count": null,
      "id": "777a9672",
      "metadata": {},
      "outputs": [],
      "source": [
        "#| export\n",
        "class TextT(VEnum):\n",
        "    'Text Styles from https://franken-ui.dev/docs/text'\n",
        "    def _generate_next_value_(name, start, count, last_values):\n",
        "        return str2ukcls('text', name)\n",
        "    \n",
        "    paragraph = \"uk-paragraph\"\n",
        "    # Text Style\n",
        "    lead,meta, gray, italic= auto(), auto(), 'text-gray-500 dark:text-gray-200', 'italic'\n",
        "    # Text Size\n",
        "    xs, sm, lg, xl = 'text-xs', 'text-sm', 'text-lg', 'text-xl'\n",
        "    # Text Weight\n",
        "    light, normal, medium, bold, extrabold = 'font-light','font-normal','font-medium','font-bold','font-extrabold'\n",
        "    # Text Color\n",
        "    muted,primary,secondary = 'text-gray-500 dark:text-gray-200', 'text-primary', 'text-secondary'\n",
        "    success,warning, error, info =  'text-success', 'text-warning', 'text-error', 'text-info'\n",
        "    # Text Alignment\n",
        "    left, right,center = \"text-left\",\"text-right\",\"text-center\"\n",
        "    justify, start, end = \"text-justify\",\"text-start\",\"text-end\"\n",
        "    # Vertical Alignment\n",
        "    top,middle,bottom = 'align-top','align-middle','align-bottom'\n",
        "    # Text Wrapping\n",
        "    truncate,break_,nowrap = 'uk-text-truncate','uk-text-break', 'uk-text-nowrap' \n",
        "    # other\n",
        "    underline = 'underline'\n",
        "    highlight = 'bg-yellow-200 dark:bg-yellow-800 text-black'\n",
        "class TextPresets(VEnum):\n",
        "    'Common Typography Presets'\n",
        "    muted_sm = TextT.muted+TextT.sm\n",
        "    muted_lg = TextT.muted+TextT.lg\n",
        "    \n",
        "    bold_sm = TextT.bold+TextT.sm\n",
        "    bold_lg = TextT.bold+TextT.lg\n",
        "    \n",
        "    md_weight_sm = stringify((TextT.sm, TextT.medium))\n",
        "    md_weight_muted = stringify((TextT.medium, TextT.muted))"
      ]
    },
    {
      "cell_type": "code",
      "execution_count": null,
      "id": "67c88a05",
      "metadata": {},
      "outputs": [],
      "source": [
        "#| export\n",
        "def CodeSpan(*c, # Contents of CodeSpan tag (inline text code snippets)\n",
        "             cls=(), # Classes in addition to CodeSpan styling\n",
        "             **kwargs # Additional args for CodeSpan tag\n",
        "             )->FT: # Code(..., cls='uk-codespan')\n",
        "    \"A CodeSpan with Styling\"\n",
        "    return fh.Code(*c, cls=('uk-codespan', stringify(cls)), **kwargs)"
      ]
    },
    {
      "cell_type": "code",
      "execution_count": null,
      "id": "ecdd881a",
      "metadata": {},
      "outputs": [],
      "source": [
        "#| export\n",
        "def CodeBlock(*c: str, # Contents of Code tag (often text)\n",
        "              cls: Enum | str | tuple = (), # Classes for the outer container\n",
        "              code_cls: Enum | str | tuple = (), # Classes for the code tag\n",
        "              **kwargs # Additional args for Code tag\n",
        "              ) -> FT: # Div(Pre(Code(..., cls='uk-codeblock), cls='multiple tailwind styles'), cls='uk-block')\n",
        "    \"CodeBlock with Styling\"\n",
        "    return Div(\n",
        "        Pre(Code(*c, cls=('uk-codeblock', stringify(code_cls)), **kwargs),\n",
        "            cls=(f'bg-gray-100 dark:bg-gray-800 {TextT.gray} p-0.4 rounded text-sm font-mono')),\n",
        "#             cls=('bg-gray-100 dark:bg-gray-800 dark:text-gray-200 p-0.4 rounded text-sm font-mono')),\n",
        "        cls=('uk-block', stringify(cls)))"
      ]
    },
    {
      "cell_type": "code",
      "execution_count": null,
      "id": "e0c2ec91",
      "metadata": {},
      "outputs": [],
      "source": [
        "#| export\n",
        "def H1(*c:FT|str, # Contents of H1 tag (often text)\n",
        "       cls:Enum|str|tuple=(), # Classes in addition to H1 styling\n",
        "       **kwargs # Additional args for H1 tag\n",
        "       )->FT: # H1(..., cls='uk-h1')\n",
        "    \"H1 with styling and appropriate size\"\n",
        "    return fh.H1(*c, cls=('uk-h1',stringify(cls)), **kwargs)"
      ]
    },
    {
      "cell_type": "code",
      "execution_count": null,
      "id": "4c29aff7",
      "metadata": {},
      "outputs": [],
      "source": [
        "#| export\n",
        "def H2(*c:FT|str, # Contents of H2 tag (often text)\n",
        "       cls:Enum|str|tuple=(), # Classes in addition to H2 styling\n",
        "       **kwargs # Additional args for H2 tag\n",
        "       )->FT: # H2(..., cls='uk-h2')\n",
        "    \"H2 with styling and appropriate size\"\n",
        "    return fh.H2(*c, cls=('uk-h2',stringify(cls)), **kwargs)"
      ]
    },
    {
      "cell_type": "code",
      "execution_count": null,
      "id": "da456b99",
      "metadata": {},
      "outputs": [],
      "source": [
        "#| export\n",
        "def H3(*c:FT|str, # Contents of H3 tag (often text)\n",
        "       cls:Enum|str|tuple=(), # Classes in addition to H3 styling\n",
        "       **kwargs # Additional args for H3 tag\n",
        "       )->FT: # H3(..., cls='uk-h3')\n",
        "    \"H3 with styling and appropriate size\"\n",
        "    return fh.H3(*c, cls=('uk-h3',stringify(cls)), **kwargs)"
      ]
    },
    {
      "cell_type": "code",
      "execution_count": null,
      "id": "5bd78f89",
      "metadata": {},
      "outputs": [],
      "source": [
        "#| export\n",
        "def H4(*c:FT|str, # Contents of H4 tag (often text)\n",
        "       cls:Enum|str|tuple=(), # Classes in addition to H4 styling\n",
        "       **kwargs # Additional args for H4 tag\n",
        "       )->FT: # H4(..., cls='uk-h4')\n",
        "    \"H4 with styling and appropriate size\"\n",
        "    return fh.H4(*c, cls=('uk-h4',stringify(cls)), **kwargs)"
      ]
    },
    {
      "cell_type": "code",
      "execution_count": null,
      "id": "d1fd94dd",
      "metadata": {},
      "outputs": [],
      "source": [
        "#| export\n",
        "def H5(*c:FT|str, # Contents of H5 tag (often text)\n",
        "       cls:Enum|str|tuple=(), # Classes in addition to H5 styling\n",
        "       **kwargs # Additional args for H5 tag\n",
        "       )->FT: # H5(..., cls='text-lg font-semibold')\n",
        "    \"H5 with styling and appropriate size\"\n",
        "    return fh.H5(*c, cls=('text-lg font-semibold',stringify(cls)), **kwargs)\n",
        "\n",
        "def H6(*c:FT|str, # Contents of H6 tag (often text)\n",
        "       cls:Enum|str|tuple=(), # Classes in addition to H6 styling\n",
        "       **kwargs # Additional args for H6 tag\n",
        "       )->FT: # H6(..., cls='text-base font-semibold')\n",
        "    \"H6 with styling and appropriate size\"\n",
        "    return fh.H6(*c, cls=('text-base font-semibold',stringify(cls)), **kwargs)"
      ]
    },
    {
      "cell_type": "code",
      "execution_count": null,
      "id": "2724ebf9",
      "metadata": {},
      "outputs": [],
      "source": [
        "#| export\n",
        "def Subtitle(*c:FT|str, # Contents of P tag (often text)\n",
        "         cls:Enum|str|tuple='mt-1.5', # Additional classes\n",
        "         **kwargs # Additional args for P tag\n",
        "         )->FT:\n",
        "    \"Styled muted_sm text designed to go under Headings and Titles\"\n",
        "    return fh.P(*c, cls=(TextPresets.muted_sm, stringify(cls)), **kwargs)"
      ]
    },
    {
      "cell_type": "code",
      "execution_count": null,
      "id": "af39f723",
      "metadata": {},
      "outputs": [],
      "source": [
        "#| export\n",
        "def Q(*c:FT|str, # Contents of Q tag (quote)\n",
        "      cls:Enum|str|tuple=(), # Additional classes\n",
        "      **kwargs # Additional args for Q tag\n",
        "      )->FT:\n",
        "    \"Styled quotation mark\"\n",
        "    return fh.Q(*c, cls=(TextT.italic,TextT.lg, stringify(cls)), **kwargs)\n",
        "\n",
        "def Em(*c:FT|str, # Contents of Em tag (emphasis)\n",
        "       cls:Enum|str|tuple=(), # Additional classes \n",
        "       **kwargs # Additional args for Em tag\n",
        "       )->FT:\n",
        "    \"Styled emphasis text\"\n",
        "    return fh.Em(*c, cls=(TextT.medium, stringify(cls)), **kwargs)\n",
        "\n",
        "def Strong(*c:FT|str, # Contents of Strong tag\n",
        "          cls:Enum|str|tuple=(), # Additional classes\n",
        "          **kwargs # Additional args for Strong tag\n",
        "          )->FT:\n",
        "    \"Styled strong text\" \n",
        "    return fh.Strong(*c, cls=(TextT.bold, stringify(cls)), **kwargs)\n",
        "\n",
        "def I(*c:FT|str, # Contents of I tag (italics)\n",
        "      cls:Enum|str|tuple=(), # Additional classes\n",
        "      **kwargs # Additional args for I tag\n",
        "      )->FT:\n",
        "    \"Styled italic text\"\n",
        "    return fh.I(*c, cls=(TextT.italic, stringify(cls)), **kwargs)\n",
        "\n",
        "def Small(*c:FT|str, # Contents of Small tag\n",
        "         cls:Enum|str|tuple=(), # Additional classes\n",
        "         **kwargs # Additional args for Small tag\n",
        "         )->FT:\n",
        "    \"Styled small text\"\n",
        "    return fh.Small(*c, cls=(TextT.sm, stringify(cls)), **kwargs)\n",
        "\n",
        "def Mark(*c:FT|str, # Contents of Mark tag (highlighted text)\n",
        "        cls:Enum|str|tuple=(), # Additional classes\n",
        "        **kwargs # Additional args for Mark tag\n",
        "        )->FT:\n",
        "    \"Styled highlighted text\"\n",
        "    return fh.Mark(*c, cls=(TextT.highlight, stringify(cls)), **kwargs)"
      ]
    },
    {
      "cell_type": "code",
      "execution_count": null,
      "id": "c07710b0",
      "metadata": {},
      "outputs": [],
      "source": [
        "#| export\n",
        "def Del(*c:FT|str, # Contents of Del tag (deleted text)\n",
        "       cls:Enum|str|tuple=(), # Additional classes\n",
        "       **kwargs # Additional args for Del tag\n",
        "       )->FT:\n",
        "    \"Styled deleted text\"\n",
        "    return fh.Del(*c, cls=('line-through', TextT.gray, stringify(cls)), **kwargs)\n",
        "\n",
        "def Ins(*c:FT|str, # Contents of Ins tag (inserted text)\n",
        "        cls:Enum|str|tuple=(), # Additional classes\n",
        "        **kwargs # Additional args for Ins tag\n",
        "        )->FT:\n",
        "    \"Styled inserted text\"\n",
        "    return fh.Ins(*c, cls=(TextT.underline+' text-green-600', stringify(cls)), **kwargs)\n",
        "\n",
        "def Sub(*c:FT|str, # Contents of Sub tag (subscript)\n",
        "       cls:Enum|str|tuple=(), # Additional classes\n",
        "       **kwargs # Additional args for Sub tag\n",
        "       )->FT:\n",
        "    \"Styled subscript text\"\n",
        "    return fh.Sub(*c, cls=(TextT.sm+' -bottom-1 relative', stringify(cls)), **kwargs)\n",
        "\n",
        "def Sup(*c:FT|str, # Contents of Sup tag (superscript) \n",
        "        cls:Enum|str|tuple=(), # Additional classes\n",
        "        **kwargs # Additional args for Sup tag\n",
        "        )->FT:\n",
        "    \"Styled superscript text\"\n",
        "    return fh.Sup(*c, cls=(TextT.sm+' -top-1 relative', stringify(cls)), **kwargs)"
      ]
    },
    {
      "cell_type": "code",
      "execution_count": null,
      "id": "6b99103f",
      "metadata": {},
      "outputs": [],
      "source": [
        "#| export\n",
        "def Blockquote(*c:FT|str, # Contents of Blockquote tag (often text)\n",
        "               cls:Enum|str|tuple=(), # Classes in addition to Blockquote styling\n",
        "               **kwargs # Additional args for Blockquote tag\n",
        "               )->FT: # Blockquote(..., cls='uk-blockquote')\n",
        "    \"Blockquote with Styling\"\n",
        "    return fh.Blockquote(*c, cls=('uk-blockquote',stringify(cls)), **kwargs)"
      ]
    },
    {
      "cell_type": "code",
      "execution_count": null,
      "id": "df406d73",
      "metadata": {},
      "outputs": [],
      "source": [
        "#| export\n",
        "def Caption(*c:FT|str, cls:Enum|str|tuple=(), **kwargs)->FT:\n",
        "    \"Styled caption text\"\n",
        "    return fh.Caption(\n",
        "        Span(*c, cls=(TextT.gray, TextT.sm, stringify(cls))),\n",
        "        **kwargs)"
      ]
    },
    {
      "cell_type": "code",
      "execution_count": null,
      "id": "d12d83f5",
      "metadata": {},
      "outputs": [],
      "source": [
        "#| export\n",
        "def Cite(*c:FT|str, # Contents of Cite tag\n",
        "         cls:Enum|str|tuple=(), # Additional classes\n",
        "         **kwargs # Additional args for Cite tag\n",
        "         )->FT:\n",
        "    \"Styled citation text\"\n",
        "    return fh.Cite(*c, cls=(TextT.italic, TextT.gray, stringify(cls)), **kwargs)\n",
        "\n",
        "def Time(*c:FT|str, # Contents of Time tag\n",
        "         cls:Enum|str|tuple=(), # Additional classes\n",
        "         datetime:str=None, # datetime attribute\n",
        "         **kwargs # Additional args for Time tag\n",
        "         )->FT:\n",
        "    \"Styled time element\"\n",
        "    if datetime: kwargs['datetime'] = datetime\n",
        "    return fh.Time(*c, cls=(TextT.gray, stringify(cls)), **kwargs)\n",
        "\n",
        "def Address(*c:FT|str, # Contents of Address tag\n",
        "           cls:Enum|str|tuple=(), # Additional classes\n",
        "           **kwargs # Additional args for Address tag\n",
        "           )->FT:\n",
        "    \"Styled address element\"\n",
        "    return fh.Address(*c, cls=(TextT.italic, stringify(cls)), **kwargs)"
      ]
    },
    {
      "cell_type": "code",
      "execution_count": null,
      "id": "2c7fee69",
      "metadata": {},
      "outputs": [
        {
          "data": {
            "text/html": [
              "<iframe src=\"http://localhost:8000/_jT25kDU5TsqT6DOd_hBxiw\" style=\"width: 100%; height: auto; border: none;\" onload=\"{\n",
              "        let frame = this;\n",
              "        window.addEventListener('message', function(e) {\n",
              "            if (e.source !== frame.contentWindow) return; // Only proceed if the message is from this iframe\n",
              "            if (e.data.height) frame.style.height = (e.data.height+1) + 'px';\n",
              "        }, false);\n",
              "    }\" allow=\"accelerometer; autoplay; camera; clipboard-read; clipboard-write; display-capture; encrypted-media; fullscreen; gamepad; geolocation; gyroscope; hid; identity-credentials-get; idle-detection; magnetometer; microphone; midi; payment; picture-in-picture; publickey-credentials-get; screen-wake-lock; serial; usb; web-share; xr-spatial-tracking\"></iframe> "
            ],
            "text/plain": [
              "<IPython.core.display.HTML object>"
            ]
          },
          "execution_count": null,
          "metadata": {},
          "output_type": "execute_result"
        }
      ],
      "source": [
        "demo = Div(\n",
        "            H1(\"MonsterUI's Semantic Text\"),\n",
        "            P(\n",
        "                Strong(\"MonsterUI\"), \" brings the power of semantic HTML to life with \",\n",
        "                Em(\"beautiful styling\"), \" and \", Mark(\"zero configuration\"), \".\"\n",
        "            ),\n",
        "            Blockquote(\n",
        "                P(\"Write semantic HTML in pure Python, get modern styling for free.\"),\n",
        "                Cite(\"MonsterUI Team\")\n",
        "            ),\n",
        "            footer=Meta(\"Released February 2025\"),\n",
        "        )\n",
        "\n",
        "Show(demo)"
      ]
    },
    {
      "cell_type": "code",
      "execution_count": null,
      "id": "baeb05f4",
      "metadata": {},
      "outputs": [],
      "source": [
        "#| export\n",
        "def Abbr(*c:FT|str, # Contents of Abbr tag\n",
        "         cls:Enum|str|tuple=(), # Additional classes\n",
        "         title:str=None, # Title attribute for abbreviation\n",
        "         **kwargs # Additional args for Abbr tag\n",
        "         )->FT:\n",
        "    \"Styled abbreviation with dotted underline\"\n",
        "    if title: kwargs['title'] = title\n",
        "    return fh.Abbr(*c, cls=('border-b border-dotted border-secondary hover:cursor-help', stringify(cls)), **kwargs)\n",
        "\n",
        "def Dfn(*c:FT|str, # Contents of Dfn tag (definition)\n",
        "        cls:Enum|str|tuple=(), # Additional classes\n",
        "        **kwargs # Additional args for Dfn tag\n",
        "        )->FT:\n",
        "    \"Styled definition term with italic and medium weight\"\n",
        "    return fh.Dfn(*c, cls=(TextT.medium + TextT.italic + TextT.gray, stringify(cls)), **kwargs)\n",
        "\n",
        "def Kbd(*c:FT|str, # Contents of Kbd tag (keyboard input)\n",
        "        cls:Enum|str|tuple=(), # Additional classes\n",
        "        **kwargs # Additional args for Kbd tag\n",
        "        )->FT:\n",
        "    \"Styled keyboard input with subtle background\"\n",
        "    return fh.Kbd(*c, cls=('font-mono px-1.5 py-0.5 text-sm bg-secondary border border-gray-300 dark:border-gray-600 rounded shadow-sm', stringify(cls)), **kwargs)"
      ]
    },
    {
      "cell_type": "code",
      "execution_count": null,
      "id": "64be65c1",
      "metadata": {},
      "outputs": [],
      "source": [
        "#| export\n",
        "def Samp(*c:FT|str, # Contents of Samp tag (sample output)\n",
        "         cls:Enum|str|tuple=(), # Additional classes\n",
        "         **kwargs # Additional args for Samp tag\n",
        "         )->FT:\n",
        "    \"Styled sample output with subtle background\"\n",
        "    return fh.Samp(*c, cls=('font-mono bg-secondary px-1 rounded', TextT.gray, stringify(cls)), **kwargs)\n",
        "\n",
        "def Var(*c:FT|str, # Contents of Var tag (variable)\n",
        "        cls:Enum|str|tuple=(), # Additional classes\n",
        "        **kwargs # Additional args for Var tag\n",
        "        )->FT:\n",
        "    \"Styled variable with italic monospace\"\n",
        "    return fh.Var(*c, cls=('font-mono',TextT.italic + TextT.gray, stringify(cls)), **kwargs)"
      ]
    },
    {
      "cell_type": "code",
      "execution_count": null,
      "id": "dba6517b",
      "metadata": {},
      "outputs": [],
      "source": [
        "#| export\n",
        "def Figure(*c:FT|str, # Contents of Figure tag\n",
        "          cls:Enum|str|tuple=(), # Additional classes \n",
        "          **kwargs # Additional args for Figure tag\n",
        "          )->FT:\n",
        "    \"Styled figure container with card-like appearance\"\n",
        "    return fh.Figure(*c, cls=('p-4 my-4 border border-gray-200 dark:border-gray-800 rounded-lg shadow-sm bg-card', stringify(cls)), **kwargs)"
      ]
    },
    {
      "cell_type": "code",
      "execution_count": null,
      "id": "2faaf0d4",
      "metadata": {},
      "outputs": [],
      "source": [
        "#| export\n",
        "def Details(*c:FT|str, # Contents of Details tag\n",
        "           cls:Enum|str|tuple=(), # Additional classes\n",
        "           **kwargs # Additional args for Details tag\n",
        "           )->FT:\n",
        "    \"Styled details element\"\n",
        "    return fh.Details(*c, cls=('border border-secondary rounded-lg', stringify(cls)), **kwargs)\n",
        "\n",
        "def Summary(*c:FT|str, # Contents of Summary tag\n",
        "           cls:Enum|str|tuple=(), # Additional classes\n",
        "           **kwargs # Additional args for Summary tag\n",
        "           )->FT:\n",
        "    \"Styled summary element\"\n",
        "    return fh.Summary(*c, cls=(TextT.medium + ' p-3 hover:bg-secondary cursor-pointer', stringify(cls)), **kwargs)\n",
        "\n",
        "def Data(*c:FT|str, # Contents of Data tag\n",
        "         value:str=None, # Value attribute\n",
        "         cls:Enum|str|tuple=(), # Additional classes\n",
        "         **kwargs # Additional args for Data tag\n",
        "         )->FT:\n",
        "    \"Styled data element\"\n",
        "    if value: kwargs['value'] = value\n",
        "    return fh.Data(*c, cls=('font-mono text-sm bg-secondary px-1 rounded', stringify(cls)), **kwargs)\n",
        "\n",
        "def Meter(*c:FT|str, # Contents of Meter tag\n",
        "          value:float=None, # Current value\n",
        "          min:float=None, # Minimum value\n",
        "          max:float=None, # Maximum value\n",
        "          cls:Enum|str|tuple=(), # Additional classes\n",
        "          **kwargs # Additional args for Meter tag\n",
        "          )->FT:\n",
        "    \"Styled meter element\"\n",
        "    if value is not None: kwargs['value'] = value\n",
        "    if min is not None: kwargs['min'] = min\n",
        "    if max is not None: kwargs['max'] = max\n",
        "    return fh.Meter(*c, cls=('w-full h-2 bg-secondary rounded', stringify(cls)), **kwargs)"
      ]
    },
    {
      "cell_type": "code",
      "execution_count": null,
      "id": "000abe38",
      "metadata": {},
      "outputs": [],
      "source": [
        "#| export\n",
        "def S(*c:FT|str, # Contents of S tag (strikethrough)\n",
        "      cls:Enum|str|tuple=(), # Additional classes\n",
        "      **kwargs # Additional args for S tag\n",
        "      )->FT:\n",
        "    \"Styled strikethrough text (different semantic meaning from Del)\"\n",
        "    return fh.S(*c, cls=('line-through', TextT.gray, stringify(cls)), **kwargs)\n",
        "\n",
        "def U(*c:FT|str, # Contents of U tag (unarticulated annotation)\n",
        "      cls:Enum|str|tuple=(), # Additional classes\n",
        "      **kwargs # Additional args for U tag\n",
        "      )->FT:\n",
        "    \"Styled underline (for proper names in Chinese, proper spelling etc)\"\n",
        "    return fh.U(*c, cls=(TextT.underline, stringify(cls)), **kwargs)\n",
        "\n",
        "def Output(*c:FT|str, # Contents of Output tag\n",
        "          form:str=None, # ID of form this output belongs to\n",
        "          for_:str=None, # IDs of elements this output is for\n",
        "          cls:Enum|str|tuple=(), # Additional classes\n",
        "          **kwargs # Additional args for Output tag\n",
        "          )->FT:\n",
        "    \"Styled output element for form results\"\n",
        "    if form: kwargs['form'] = form\n",
        "    if for_: kwargs['for'] = for_  # Note: 'for' is reserved in Python\n",
        "    return fh.Output(*c, cls=('font-mono bg-secondary px-2 py-1 rounded', \n",
        "                             stringify(cls)), **kwargs)"
      ]
    },
    {
      "cell_type": "code",
      "execution_count": null,
      "id": "a161f997",
      "metadata": {},
      "outputs": [],
      "source": [
        "#| export\n",
        "def PicSumImg(h:int=200,           # Height in pixels\n",
        "              w:int=200,           # Width in pixels\n",
        "              id:int=None,        # Optional specific image ID to use\n",
        "              grayscale:bool=False, # Whether to return grayscale version\n",
        "              blur:int=None,       # Optional blur amount (1-10)\n",
        "              **kwargs             # Additional args for Img tag\n",
        "              )->FT:              # Img tag with picsum image\n",
        "    \"Creates a placeholder image using https://picsum.photos/\"\n",
        "    url = f\"https://picsum.photos\"\n",
        "    if id is not None: url = f\"{url}/id/{id}\"\n",
        "    url = f\"{url}/{w}/{h}\"\n",
        "    if grayscale: url = f\"{url}?grayscale\"\n",
        "    if blur is not None: \n",
        "        url = f\"{url}{'?' if not grayscale else '&'}blur={max(1,min(10,blur))}\"\n",
        "    return fh.Img(src=url, loading=\"lazy\", **kwargs)"
      ]
    },
    {
      "cell_type": "markdown",
      "id": "caf685b3",
      "metadata": {},
      "source": [
        "## Accordion"
      ]
    },
    {
      "cell_type": "code",
      "execution_count": null,
      "id": "d672f295",
      "metadata": {},
      "outputs": [],
      "source": [
        "#| export\n",
        "def AccordionItem(title: Union[str, FT], # Content for the accordion item title\n",
        "                  *c: FT,                # Content to display when the item is open\n",
        "                  cls: Union[str, Enum, tuple] = (), # Additional classes for the outer `Li` container\n",
        "                  title_cls: Union[str, Enum, tuple] = ('flex justify-between items-center w-full',), # Additional classes for the title `A` tag\n",
        "                  content_cls: Union[str, Enum, tuple] = (), # Additional classes for the content `Div`\n",
        "                  open: bool = False,          # Whether this item should be open by default\n",
        "                  li_kwargs: Optional[Dict] = None, # Additional attributes for the outer `Li` tag\n",
        "                  a_kwargs: Optional[Dict] = None,  # Additional attributes for the title `A` tag\n",
        "                  div_kwargs: Optional[Dict] = None # Additional attributes for the content `Div` tag\n",
        "                  ) -> FT: # Li(A(title, Span(Icon, Icon)), Div(content))\n",
        "    \"Creates a single item for use within an Accordion component, handling title, content, and open state.\"\n",
        "    li_attrs, a_attrs, div_attrs = li_kwargs or {}, a_kwargs or {}, div_kwargs or {}\n",
        "    li_classes = ['group', stringify(cls)]\n",
        "    if open: li_classes.append('uk-open')\n",
        "    final_li_cls = stringify(li_classes)\n",
        "    combined_title_cls = stringify(('uk-accordion-title', stringify(title_cls)))\n",
        "    content_classes = stringify(('uk-accordion-content', stringify(content_cls)))\n",
        "    if 'href' not in a_attrs: a_attrs['href'] = '#'\n",
        "    icon_container = Span(\n",
        "        UkIcon(\"chevron-down\", cls=\"block group-[.uk-open]:hidden h-5 w-5\"),\n",
        "        UkIcon(\"chevron-up\", cls=\"hidden group-[.uk-open]:block h-5 w-5\")\n",
        "    )\n",
        "    return fh.Li(\n",
        "        fh.A(title, icon_container, cls=combined_title_cls, **a_attrs),\n",
        "        fh.Div(*c, cls=content_classes, **div_attrs),\n",
        "        cls=final_li_cls,\n",
        "        **li_attrs\n",
        "    )"
      ]
    },
    {
      "cell_type": "code",
      "execution_count": null,
      "id": "a19bf8be",
      "metadata": {},
      "outputs": [],
      "source": [
        "#| export\n",
        "def Accordion(*c: 'AccordionItem', # One or more `AccordionItem` components\n",
        "              cls: Union[str, Enum, tuple] = (), # Additional classes for the container (`Ul` or `Div`)\n",
        "              multiple: Optional[bool] = None,    # Allow multiple items to be open simultaneously (UIkit option)\n",
        "              collapsible: Optional[bool] = None, # Allow all items to be closed (UIkit option, default True)\n",
        "              animation: Optional[bool] = None,   # Enable/disable animation (UIkit option, default True)\n",
        "              duration: Optional[int] = None,     # Animation duration in ms (UIkit option, default 200)\n",
        "              active: Optional[int] = None,       # Index (0-based) of the item to be open by default (UIkit option)\n",
        "              transition: Optional[str] = None,   # Animation transition timing function (UIkit option, e.g., 'ease-out')\n",
        "              tag: str = 'ul',                    # HTML tag for the container ('ul' or 'div')\n",
        "              **kwargs                            # Additional attributes for the container tag (e.g., id)\n",
        "              ) -> FT: # Ul(*items...) or Div(*items...)\n",
        "    \"\"\"\n",
        "    Creates a styled Accordion container using accordion component.\n",
        "    \"\"\"\n",
        "    opts = []\n",
        "    if multiple is not None: opts.append(f\"multiple: {str(multiple).lower()}\")\n",
        "    if collapsible is not None: opts.append(f\"collapsible: {str(collapsible).lower()}\")\n",
        "    if animation is not None: opts.append(f\"animation: {str(animation).lower()}\")\n",
        "    if duration is not None: opts.append(f\"duration: {duration}\")\n",
        "    if active is not None: opts.append(f\"active: {active}\")\n",
        "    if transition is not None: opts.append(f\"transition: {transition}\")\n",
        "    uk_attr_val = \"; \".join(opts) if opts else \"\"\n",
        "    kwargs['uk-accordion'] = uk_attr_val\n",
        "    container_tag = fh.Ul if tag.lower() == 'ul' else fh.Div\n",
        "    final_cls = stringify(cls)\n",
        "    return container_tag(*c, cls=final_cls, **kwargs)"
      ]
    },
    {
      "cell_type": "markdown",
      "id": "d818104f",
      "metadata": {},
      "source": [
        "## Button"
      ]
    },
    {
      "cell_type": "code",
      "execution_count": null,
      "id": "3f914a2c",
      "metadata": {},
      "outputs": [],
      "source": [
        "#| export\n",
        "class ButtonT(VEnum):\n",
        "    \"Options for styling Buttons\"\n",
        "    def _generate_next_value_(name, start, count, last_values): return str2ukcls('btn', name)\n",
        "    default, ghost, primary = auto(),auto(),auto()\n",
        "    secondary, destructive = auto(), auto()\n",
        "    text, link = auto(), auto()\n",
        "    xs, sm, lg, xl = auto(), auto(), auto(), auto()\n",
        "    icon = auto()"
      ]
    },
    {
      "cell_type": "code",
      "execution_count": null,
      "id": "680b16c1",
      "metadata": {},
      "outputs": [],
      "source": [
        "#| export\n",
        "def Button(*c: Union[str, FT], # Contents of `Button` tag (often text)\n",
        "           cls: Union[str, Enum]=ButtonT.default, # Classes in addition to `Button` styling (use `ButtonT` for built in styles)\n",
        "           submit=True, # Whether the button should submit a form\n",
        "           **kwargs # Additional args for `Button` tag\n",
        "           ) -> FT: # Button(..., cls='uk-btn')\n",
        "    \"Button with Styling (defaults to `submit` for form submission)\"\n",
        "    if 'type' not in kwargs: kwargs['type'] = 'submit' if submit else 'button'\n",
        "    return fh.Button(*c, cls=('uk-btn', stringify(cls)), **kwargs)"
      ]
    },
    {
      "cell_type": "markdown",
      "id": "021bab4c",
      "metadata": {},
      "source": [
        "## Headings"
      ]
    },
    {
      "cell_type": "code",
      "execution_count": null,
      "id": "b28c2acd",
      "metadata": {},
      "outputs": [],
      "source": [
        "#| export\n",
        "class ContainerT(VEnum):\n",
        "    'Max width container sizes from https://franken-ui.dev/docs/container'\n",
        "    def _generate_next_value_(name, start, count, last_values): return str2ukcls('container', name)\n",
        "    xs = auto()\n",
        "    sm = auto()\n",
        "    lg = auto()\n",
        "    xl = auto()\n",
        "    expand = auto()"
      ]
    },
    {
      "cell_type": "code",
      "execution_count": null,
      "id": "f665556f",
      "metadata": {},
      "outputs": [],
      "source": [
        "#| export\n",
        "class BackgroundT(VEnum):\n",
        "    def _generate_next_value_(name, start, count, last_values): return str2ukcls('background', name)\n",
        "    muted = auto()\n",
        "    primary = auto()\n",
        "    secondary = auto()\n",
        "    default = auto()"
      ]
    },
    {
      "cell_type": "code",
      "execution_count": null,
      "id": "4356199a",
      "metadata": {},
      "outputs": [],
      "source": [
        "#| export\n",
        "def Container(*c, # Contents of Container tag (often other FT Components)\n",
        "              cls=('mt-5', ContainerT.xl), # Classes in addition to Container styling\n",
        "              **kwargs # Additional args for Container (`Div` tag)\n",
        "              )->FT: # Container(..., cls='uk-container')\n",
        "    \"Div to be used as a container that often wraps large sections or a page of content\"\n",
        "    return Div(*c, cls=('uk-container',stringify(cls)), **kwargs)"
      ]
    },
    {
      "cell_type": "code",
      "execution_count": null,
      "id": "cf4d85dc",
      "metadata": {},
      "outputs": [],
      "source": [
        "#| export\n",
        "def Titled(title:str=\"FastHTML app\", # Title of the page\n",
        "           *c, # Contents of the page (often other tags)\n",
        "           cls=ContainerT.xl, # Classes in addition to Container styling\n",
        "           **kwargs # Additional args for Container (`Div` tag)\n",
        "           )->FT: # Title, Main(Container(H1(title), content))\n",
        "    \"Creates a standard page structure for titled page.  Main(Container(title, content))\"\n",
        "    return fh.Title(title), fh.Main(Container(H1(title), *c, cls=cls, **kwargs))"
      ]
    },
    {
      "cell_type": "markdown",
      "id": "be7cf579",
      "metadata": {},
      "source": [
        "## Dividers"
      ]
    },
    {
      "cell_type": "code",
      "execution_count": null,
      "id": "0a2e515f",
      "metadata": {},
      "outputs": [],
      "source": [
        "#| export\n",
        "class DividerT(VEnum):\n",
        "    \"Divider Styles from https://franken-ui.dev/docs/divider\"\n",
        "    def _generate_next_value_(name, start, count, last_values): return str2ukcls('divider', name)\n",
        "    icon=auto()\n",
        "    sm=auto()\n",
        "    vertical=auto()"
      ]
    },
    {
      "cell_type": "code",
      "execution_count": null,
      "id": "fa142350",
      "metadata": {},
      "outputs": [],
      "source": [
        "#| export\n",
        "def Divider(*c, # contents of Divider tag (often nothing)\n",
        "            cls=('my-4', DividerT.icon), # Classes in addition to Divider styling\n",
        "            **kwargs # Additional args for Divider tag\n",
        "            )->FT: #  Hr(..., cls='uk-divider-icon') or Div(..., cls='uk-divider-vertical')\n",
        "    \"Divider with default styling and margin\"\n",
        "    cls = stringify(cls)\n",
        "    container = Div if 'uk-divider-vertical' in cls else Hr\n",
        "    return container(*c, cls=cls, **kwargs)"
      ]
    },
    {
      "cell_type": "code",
      "execution_count": null,
      "id": "1549197f",
      "metadata": {},
      "outputs": [],
      "source": [
        "#| export\n",
        "def DividerSplit(*c, cls=(), line_cls=(), text_cls=()):\n",
        "    \"Creates a simple horizontal line divider with configurable thickness and vertical spacing\"\n",
        "    cls, line_cls, text_cls = map(stringify,(cls, line_cls, text_cls))\n",
        "    return Div(cls='relative ' + cls)(\n",
        "        Div(cls=\"absolute inset-0 flex items-center \" + line_cls)(Span(cls=\"w-full border-t border-border\")),\n",
        "        Div(cls=\"relative flex justify-center \" + text_cls)(Span(cls=\"bg-background px-2 \")(*c)))"
      ]
    },
    {
      "cell_type": "code",
      "execution_count": null,
      "id": "753a1497",
      "metadata": {},
      "outputs": [],
      "source": [
        "#| export\n",
        "def DividerLine(lwidth=2, y_space=4): return Hr(cls=f\"my-{y_space} h-[{lwidth}px] w-full bg-secondary\")"
      ]
    },
    {
      "cell_type": "markdown",
      "id": "ca9d872c",
      "metadata": {},
      "source": [
        "## Articles & Containers & Sections"
      ]
    },
    {
      "cell_type": "code",
      "execution_count": null,
      "id": "2c9a2956",
      "metadata": {},
      "outputs": [],
      "source": [
        "#| export\n",
        "def Article(*c, # contents of Article tag (often other tags)\n",
        "            cls=(), # Classes in addition to Article styling\n",
        "            **kwargs # Additional args for Article tag\n",
        "            )->FT: # Article(..., cls='uk-article')\n",
        "    \"A styled article container for blog posts or similar content\"\n",
        "    return fh.Article(*c, cls=('uk-article',stringify(cls)), **kwargs)\n",
        "\n",
        "def ArticleTitle(*c, # contents of ArticleTitle tag (often other tags)\n",
        "                 cls=(), # Classes in addition to ArticleTitle styling\n",
        "                 **kwargs # Additional args for ArticleTitle tag\n",
        "                 )->FT: # H1(..., cls='uk-article-title')\n",
        "    \"A title component for use within an Article\"\n",
        "    return H1(*c, cls=('uk-article-title',stringify(cls)), **kwargs)\n",
        "\n",
        "def ArticleMeta(*c, # contents of ArticleMeta tag (often other tags)\n",
        "                cls=(), # Classes in addition to ArticleMeta styling\n",
        "                **kwargs # Additional args for ArticleMeta tag\n",
        "                )->FT: # P(..., cls='uk-article-meta')\n",
        "    \"A metadata component for use within an Article showing things like date, author etc\"\n",
        "    return P(*c, cls=('uk-article-meta',stringify(cls)), **kwargs)"
      ]
    },
    {
      "cell_type": "code",
      "execution_count": null,
      "id": "b2b0abaa",
      "metadata": {},
      "outputs": [],
      "source": [
        "# Article(ArticleTitle(\"Article Title\"), ArticleMeta(\"By: John Doe\"))"
      ]
    },
    {
      "cell_type": "code",
      "execution_count": null,
      "id": "22609bb2",
      "metadata": {},
      "outputs": [],
      "source": [
        "#| export\n",
        "class SectionT(VEnum):\n",
        "    'Section styles from https://franken-ui.dev/docs/section'\n",
        "    def _generate_next_value_(name, start, count, last_values): return str2ukcls('section', name)\n",
        "    default = auto()\n",
        "    muted = auto()\n",
        "    primary = auto()\n",
        "    secondary = auto()\n",
        "    xs = 'uk-section-xsmall'\n",
        "    sm = 'uk-section-small'\n",
        "    lg = 'uk-section-large'\n",
        "    xl = 'uk-section-xlarge'\n",
        "    remove_vertical = auto()"
      ]
    },
    {
      "cell_type": "code",
      "execution_count": null,
      "id": "cb0244e9",
      "metadata": {},
      "outputs": [],
      "source": [
        "# Markdown(enum_to_markdown_table(SectionT))"
      ]
    },
    {
      "cell_type": "code",
      "execution_count": null,
      "id": "18bb39ed",
      "metadata": {},
      "outputs": [],
      "source": [
        "#| export\n",
        "def Section(*c, # contents of Section tag (often other tags)\n",
        "            cls=(), # Classes in addition to Section styling\n",
        "            **kwargs # Additional args for Section tag\n",
        "            )->FT: # Div(..., cls='uk-section')\n",
        "    \"Section with styling and margins\"\n",
        "    return fh.Div(*c, cls=('uk-section',stringify(cls)), **kwargs)"
      ]
    },
    {
      "cell_type": "markdown",
      "id": "c70c8aab",
      "metadata": {},
      "source": [
        "## Forms & Inputs"
      ]
    },
    {
      "cell_type": "code",
      "execution_count": null,
      "id": "fd2fd2ad",
      "metadata": {},
      "outputs": [],
      "source": [
        "#| export\n",
        "def Form(*c, # contents of Form tag (often Buttons, FormLabels, and LabelInputs)\n",
        "          cls='space-y-3', # Classes in addition to Form styling (default is 'space-y-3' to prevent scrunched up form elements)\n",
        "          **kwargs # Additional args for Form tag\n",
        "          )->FT: # Form(..., cls='space-y-3')\n",
        "    \"A Form with default spacing between form elements\"\n",
        "    return fh.Form(*c, cls=stringify(cls), **kwargs)"
      ]
    },
    {
      "cell_type": "code",
      "execution_count": null,
      "id": "23618919",
      "metadata": {},
      "outputs": [],
      "source": [
        "#|export\n",
        "def Fieldset(*c, # contents of Fieldset tag (often other tags)\n",
        "             cls='flex', # Classes in addition to Fieldset styling\n",
        "             **kwargs # Additional args for Fieldset tag\n",
        "             )->FT: # Fieldset(..., cls='uk-fieldset')\n",
        "    \"A Fieldset with default styling\"\n",
        "    return fh.Fieldset(*c, cls=('uk-fieldset',stringify(cls)), **kwargs)\n",
        "\n",
        "def Legend(*c, # contents of Legend tag (often other tags)\n",
        "           cls=(), # Classes in addition to Legend styling\n",
        "           **kwargs # Additional args for Legend tag\n",
        "           )->FT: # Legend(..., cls='uk-legend')\n",
        "    \"A Legend with default styling\"\n",
        "    return fh.Legend(*c, cls=('uk-legend',stringify(cls)), **kwargs)"
      ]
    },
    {
      "cell_type": "code",
      "execution_count": null,
      "id": "866006f3",
      "metadata": {},
      "outputs": [],
      "source": [
        "#| export\n",
        "def Input(*c, # contents of Input tag (often nothing)\n",
        "          cls=(), # Classes in addition to Input styling\n",
        "          **kwargs # Additional args for Input tag\n",
        "          )->FT: # Input(..., cls='uk-input')\n",
        "    \"An Input with default styling\"\n",
        "    return fh.Input(*c, cls=('uk-input',stringify(cls)), **kwargs)\n",
        "\n",
        "def Radio(*c, # contents of Radio tag (often nothing)\n",
        "           cls=(), # Classes in addition to Radio styling\n",
        "           **kwargs # Additional args for Radio tag\n",
        "           )->FT: # Input(..., cls='uk-radio', type='radio')\n",
        "    \"A Radio with default styling\"\n",
        "    return fh.Input(*c, cls=('uk-radio',stringify(cls)), type='radio', **kwargs)\n",
        "def CheckboxX(*c, # contents of CheckboxX tag (often nothing)\n",
        "               cls=(), # Classes in addition to CheckboxX styling\n",
        "               **kwargs # Additional args for CheckboxX tag\n",
        "               )->FT: # Input(..., cls='uk-checkbox', type='checkbox')\n",
        "    \"A Checkbox with default styling\"\n",
        "    return fh.Input(*c, cls=('uk-checkbox',stringify(cls)), type='checkbox', **kwargs)"
      ]
    },
    {
      "cell_type": "code",
      "execution_count": null,
      "id": "210222f5",
      "metadata": {},
      "outputs": [],
      "source": []
    },
    {
      "cell_type": "code",
      "execution_count": null,
      "id": "aee199c9",
      "metadata": {},
      "outputs": [],
      "source": [
        "#| export\n",
        "def Range(*c, # contents of Range tag (often nothing)\n",
        "          value='',\n",
        "          label=True,\n",
        "          min=None,\n",
        "          max=None,\n",
        "          step=None,\n",
        "           cls=(), # Classes in addition to Range styling\n",
        "           **kwargs # Additional args for Range tag\n",
        "           )->FT: # Input(..., cls='uk-range', type='range')\n",
        "    \"A Range with default styling\"\n",
        "    return Uk_input_range(*c, min=min, label=label, max=max, value=value, step=step, multiple=len(value.split(','))>1, cls=('uk-range',stringify(cls)), **kwargs)"
      ]
    },
    {
      "cell_type": "code",
      "execution_count": null,
      "id": "1999cbd1",
      "metadata": {},
      "outputs": [
        {
          "data": {
            "text/markdown": [
              "```html\n",
              "<uk-input-range label=\"kg\" value=\"25,75\" multiple class=\"uk-range \"></uk-input-range>\n",
              "```"
            ],
            "text/plain": [
              "uk-input-range((),{'label': 'kg', 'value': '25,75', 'multiple': True, 'class': 'uk-range '})"
            ]
          },
          "execution_count": null,
          "metadata": {},
          "output_type": "execute_result"
        }
      ],
      "source": [
        "Range(label='kg', value=\"25,75\")"
      ]
    },
    {
      "cell_type": "code",
      "execution_count": null,
      "id": "a7a1efbc",
      "metadata": {},
      "outputs": [
        {
          "data": {
            "text/html": [
              "<a href=\"http://localhost:8000/_9Pq-kbRSQiybUsxfQN9Gtg\" target=\"_blank\">Open in new tab</a>"
            ],
            "text/plain": [
              "<IPython.core.display.HTML object>"
            ]
          },
          "metadata": {},
          "output_type": "display_data"
        },
        {
          "data": {
            "text/html": [
              "<iframe src=\"http://localhost:8000/_9Pq-kbRSQiybUsxfQN9Gtg\" style=\"width: 100%; height: auto; border: none;\" onload=\"{\n",
              "        let frame = this;\n",
              "        window.addEventListener('message', function(e) {\n",
              "            if (e.source !== frame.contentWindow) return; // Only proceed if the message is from this iframe\n",
              "            if (e.data.height) frame.style.height = (e.data.height+1) + 'px';\n",
              "        }, false);\n",
              "    }\" allow=\"accelerometer; autoplay; camera; clipboard-read; clipboard-write; display-capture; encrypted-media; fullscreen; gamepad; geolocation; gyroscope; hid; identity-credentials-get; idle-detection; magnetometer; microphone; midi; payment; picture-in-picture; publickey-credentials-get; screen-wake-lock; serial; usb; web-share; xr-spatial-tracking\"></iframe> "
            ],
            "text/plain": [
              "<IPython.core.display.HTML object>"
            ]
          },
          "execution_count": null,
          "metadata": {},
          "output_type": "execute_result"
        }
      ],
      "source": [
        "\n",
        "Show(Range(label='kg', value=\"25,75\"), link=True)"
      ]
    },
    {
      "cell_type": "code",
      "execution_count": null,
      "id": "ad1ad1ba",
      "metadata": {},
      "outputs": [],
      "source": [
        "#| export\n",
        "def TextArea(*c, # contents of TextArea tag (often text)\n",
        "             cls=(), # Classes in addition to TextArea styling\n",
        "             **kwargs # Additional args for TextArea tag\n",
        "             )->FT: # TextArea(..., cls='uk-textarea')\n",
        "    \"A Textarea with default styling\"\n",
        "    return fh.Textarea(*c, cls=('uk-textarea',stringify(cls)), **kwargs)\n",
        "def Switch(*c, # contents of Switch tag (often nothing)\n",
        "           cls=(), # Classes in addition to Switch styling\n",
        "           **kwargs # Additional args for Switch tag\n",
        "           )->FT: # Input(..., cls='uk-toggle-switch uk-toggle-switch-primary min-w-9', type='checkbox')\n",
        "    \"A Switch with default styling\"\n",
        "    return fh.Input(*c, cls=('uk-toggle-switch uk-toggle-switch-primary min-w-9',stringify(cls)), type='checkbox', **kwargs)"
      ]
    },
    {
      "cell_type": "code",
      "execution_count": null,
      "id": "a6d644ea",
      "metadata": {},
      "outputs": [],
      "source": [
        "#| export\n",
        "def Upload(*c, # Contents of Upload tag button (often text)\n",
        "          cls=(), # Classes in addition to Upload styling\n",
        "          multiple=False, # Whether to allow multiple file selection\n",
        "          accept=None, # File types to accept (e.g. 'image/*')\n",
        "          button_cls=ButtonT.default, # Classes for the button\n",
        "          id=None, # ID for the file input\n",
        "          name=None, # Name for the file input\n",
        "          **kwargs # Additional args for the outer div\n",
        "          )->FT: # Div(Input(type='file'), Button(...))\n",
        "    \"A file upload component with default styling\"\n",
        "    input_kwargs = {'type': 'file', 'multiple': multiple}\n",
        "    if accept: input_kwargs['accept'] = accept\n",
        "    if id: input_kwargs['id'] = id\n",
        "    if name: input_kwargs['name'] = name\n",
        "    return Div(\n",
        "        fh.Input(**input_kwargs),\n",
        "        Button(*c, cls=button_cls, submit=False, tabindex=\"-1\"),\n",
        "        cls=('w-full js-upload', stringify(cls)),\n",
        "        uk_form_custom=True)\n",
        "\n",
        "def UploadZone(*c, # Contents of UploadZone tag (often text or other tags)\n",
        "               cls=(), # Classes in addition to UploadZone styling\n",
        "               multiple=False, # Whether to allow multiple file selection\n",
        "               accept=None, # File types to accept (e.g. 'image/*')\n",
        "               id=None, # ID for the file input\n",
        "               name=None, # Name for the file input\n",
        "               **kwargs # Additional args for the outer div\n",
        "               )->FT:\n",
        "    \"A file drop zone component with default styling\"\n",
        "    input_kwargs = {'type': 'file', 'multiple': multiple}\n",
        "    if accept: input_kwargs['accept'] = accept \n",
        "    if id: input_kwargs['id'] = id\n",
        "    if name: input_kwargs['name'] = name\n",
        "    return Div(\n",
        "        Div(fh.Input(**input_kwargs),\n",
        "            Span(*c),\n",
        "            uk_form_custom=True, \n",
        "            cls='w-full'),\n",
        "        cls=('js-upload uk-placeholder uk-text-center', stringify(cls)),\n",
        "        **kwargs)"
      ]
    },
    {
      "cell_type": "code",
      "execution_count": null,
      "id": "25914646",
      "metadata": {},
      "outputs": [],
      "source": [
        "#|export\n",
        "def FormLabel(*c, # contents of FormLabel tag (often text)\n",
        "               cls=(), # Classes in addition to FormLabel styling\n",
        "               **kwargs # Additional args for FormLabel tag\n",
        "               )->FT: # Label(..., cls='uk-form-label')\n",
        "    \"A Label with default styling\"\n",
        "    return fh.Label(*c, cls=('uk-form-label',stringify(cls)), **kwargs)"
      ]
    },
    {
      "cell_type": "code",
      "execution_count": null,
      "id": "698f63d6",
      "metadata": {},
      "outputs": [],
      "source": [
        "#| export\n",
        "class LabelT(VEnum):\n",
        "    def _generate_next_value_(name, start, count, last_values): return str2ukcls('label', name)\n",
        "    primary = auto()\n",
        "    secondary = auto()\n",
        "    destructive = auto()"
      ]
    },
    {
      "cell_type": "code",
      "execution_count": null,
      "id": "eaa2043b",
      "metadata": {},
      "outputs": [],
      "source": [
        "#| export\n",
        "def Label(*c, # contents of Label tag (often text)\n",
        "           cls=(), # Classes in addition to Label styling\n",
        "           **kwargs # Additional args for Label tag\n",
        "           )->FT: # Label(..., cls='uk-label')\n",
        "    \"FrankenUI labels, which look like pills\"\n",
        "    return fh.Label(*c, cls=('uk-label',stringify(cls)), **kwargs)"
      ]
    },
    {
      "cell_type": "code",
      "execution_count": null,
      "id": "04248315",
      "metadata": {},
      "outputs": [],
      "source": [
        "#| export\n",
        "def UkFormSection(title, description, *c, button_txt='Update', outer_margin=6, inner_margin=6):\n",
        "    \"A form section with a title, description and optional button\"\n",
        "    return Div(cls=f'space-y-{inner_margin} py-{outer_margin}')(\n",
        "        Div(H3(title), P(description, cls=TextPresets.muted_sm)),\n",
        "        DividerSplit(), *c,\n",
        "        Div(Button(button_txt, cls=ButtonT.primary)) if button_txt else None)"
      ]
    },
    {
      "cell_type": "markdown",
      "id": "0e1c120a",
      "metadata": {},
      "source": [
        "## Labeled Inputs"
      ]
    },
    {
      "cell_type": "markdown",
      "id": "9a8f8c66",
      "metadata": {},
      "source": [
        "Inputs of various types often go with a label.  Because of this we created functions to do this for you along with properly linking the `for` attribute from the lable to the input.  We also have some nice defaults, such as putting a little spacing between the label and the input"
      ]
    },
    {
      "cell_type": "code",
      "execution_count": null,
      "id": "56e7ca16",
      "metadata": {},
      "outputs": [],
      "source": [
        "#| export\n",
        "def GenericLabelInput(\n",
        "               label:str|FT, # FormLabel content (often text)\n",
        "               lbl_cls='', # Additional classes for FormLabel\n",
        "               input_cls='', # Additional classes for user input (Input, Select, etc)\n",
        "               container=Div, # Container to wrap label and input in (default is Div)\n",
        "               cls='', # Classes on container (default is '')\n",
        "               id=None, # id for label and input (`id`, `name` and `for` attributes are set to this value).  If `label` is str, this defaults to `label.lower()`\n",
        "               input_fn=noop, # User input FT component \n",
        "                **kwargs # Additional args for user input\n",
        "                ): \n",
        "    \"`Div(Label,Input)` component with Uk styling injected appropriately. Generally you should higher level API, such as `LabelInput` which is created for you in this library\"\n",
        "    if not id and isinstance(label, str): id = label.lower()\n",
        "    if isinstance(label, str) or label.tag != 'label': \n",
        "        label = FormLabel(cls=stringify(lbl_cls), fr=id)(label)\n",
        "    inp = input_fn(id=id, cls=stringify(input_cls), **kwargs)        \n",
        "    if container: return container(label, inp, cls=stringify(cls))\n",
        "    return label, inp"
      ]
    },
    {
      "cell_type": "code",
      "execution_count": null,
      "id": "b878694f",
      "metadata": {},
      "outputs": [],
      "source": [
        "#| export\n",
        "def LabelInput(label:str|FT, # FormLabel content (often text)\n",
        "               lbl_cls='', # Additional classes for `FormLabel`\n",
        "               input_cls='', # Additional classes for `Input`\n",
        "               cls='space-y-2', # Classes on container (default is `'space-y-2'` to prevent scrunched up form elements)\n",
        "               id='', # id for `FormLabel` and `Input` (`id`, `name` and `for` attributes are set to this value)\n",
        "                **kwargs # Additional args for `Input`\n",
        "               )->FT:  # Div(cls='space-y-2')(`FormLabel`, `Input`)\n",
        "    \"A `FormLabel` and `Input` pair that provides default spacing and links/names them based on id\"\n",
        "    return GenericLabelInput(label=label, lbl_cls=lbl_cls, input_cls=input_cls,\n",
        "                             container=Div, cls=cls, id=id, input_fn=Input, **kwargs)"
      ]
    },
    {
      "cell_type": "code",
      "execution_count": null,
      "id": "ea4c8a92",
      "metadata": {},
      "outputs": [],
      "source": [
        "#| export\n",
        "def LabelTextArea(label:str|FT, # FormLabel content (often text)\n",
        "                  value='', # Value for the textarea\n",
        "                  lbl_cls='', # Additional classes for `FormLabel`\n",
        "                  input_cls='', # Additional classes for `TextArea`\n",
        "                  cls='space-y-2', # Classes on container (default is `'space-y-2'` to prevent scrunched up form elements)\n",
        "                  id='', # id for `FormLabel` and `TextArea` (`id`, `name` and `for` attributes are set to this value)\n",
        "                  **kwargs # Additional args for `TextArea`\n",
        "                  )->FT:  # Div(cls='space-y-2')(`FormLabel`, `TextArea`)\n",
        "    def text_area_with_value(**kw): return TextArea(value, **kw)\n",
        "    return GenericLabelInput(label=label, lbl_cls=lbl_cls, input_cls=input_cls,\n",
        "                             container=Div, cls=cls, id=id, input_fn=text_area_with_value, **kwargs)"
      ]
    },
    {
      "cell_type": "code",
      "execution_count": null,
      "id": "c5809ab0",
      "metadata": {},
      "outputs": [],
      "source": [
        "#| export\n",
        "@delegates(GenericLabelInput, but=['input_fn','cls'])\n",
        "def LabelSwitch(label:str|FT, # FormLabel content (often text)\n",
        "               lbl_cls='', # Additional classes for `FormLabel`\n",
        "               input_cls='', # Additional classes for `Switch`\n",
        "               cls='space-x-2', # Classes on container (default is `'space-x-2'` to prevent scrunched up form elements)\n",
        "               id='', # id for `FormLabel` and `Switch` (`id`, `name` and `for` attributes are set to this value)\n",
        "                **kwargs # Additional args for `Switch`\n",
        "               )->FT:  # Div(cls='space-y-2')(`FormLabel`, `Switch`)\n",
        "    return GenericLabelInput(label=label, lbl_cls=lbl_cls, input_cls=input_cls,\n",
        "                             container=Div, cls=cls, id=id, input_fn=Switch, **kwargs)"
      ]
    },
    {
      "cell_type": "code",
      "execution_count": null,
      "id": "9fdc52d0",
      "metadata": {},
      "outputs": [],
      "source": [
        "#| export\n",
        "def LabelRadio(label:str|FT, # FormLabel content (often text)\n",
        "               lbl_cls='', # Additional classes for `FormLabel`\n",
        "               input_cls='', # Additional classes for `Radio`\n",
        "               container=Div, # Container to wrap label and input in (default is Div)\n",
        "               cls='flex items-center space-x-2', # Classes on container (default is 'flex items-center space-x-2')\n",
        "               id='', # id for `FormLabel` and `Radio` (`id`, `name` and `for` attributes are set to this value)\n",
        "                **kwargs # Additional args for `Radio`\n",
        "               )->FT:  # Div(cls='flex items-center space-x-2')(`FormLabel`, `Radio`)\n",
        "    \"A FormLabel and Radio pair that provides default spacing and links/names them based on id\"\n",
        "    if isinstance(label, str) or label.tag != 'label': \n",
        "        label = FormLabel(cls=stringify(lbl_cls), fr=id)(label)\n",
        "    inp = Radio(id=id, cls=stringify(input_cls), **kwargs)        \n",
        "    if container: return container(inp, label, cls=stringify(cls))\n",
        "    return inp, label"
      ]
    },
    {
      "cell_type": "code",
      "execution_count": null,
      "id": "914769f7",
      "metadata": {},
      "outputs": [],
      "source": [
        "#| export\n",
        "def LabelCheckboxX(label:str|FT, # FormLabel content (often text)\n",
        "               lbl_cls='', # Additional classes for `FormLabel`\n",
        "               input_cls='', # Additional classes for `CheckboxX`\n",
        "               container=Div, # Container to wrap label and input in (default is Div)\n",
        "               cls='flex items-center space-x-2', # Classes on container (default is 'flex items-center space-x-2')\n",
        "               id='', # id for `FormLabel` and `CheckboxX` (`id`, `name` and `for` attributes are set to this value)\n",
        "                **kwargs # Additional args for `CheckboxX`\n",
        "               )->FT:  # Div(cls='flex items-center space-x-2')(`FormLabel`, `CheckboxX`)\n",
        "    \"A FormLabel and CheckboxX pair that provides default spacing and links/names them based on id\"\n",
        "    if not id: id = fh.unqid()\n",
        "    if isinstance(label, str) or label.tag != 'label': \n",
        "        label = FormLabel(cls=stringify(lbl_cls), fr=id)(label)\n",
        "    inp = CheckboxX(id=id, cls=stringify(input_cls), **kwargs)        \n",
        "    if container: return container(inp, label, cls=stringify(cls))\n",
        "    return inp, label"
      ]
    },
    {
      "cell_type": "code",
      "execution_count": null,
      "id": "138d303a",
      "metadata": {},
      "outputs": [],
      "source": [
        "#| export\n",
        "def Options(*c,                    # Content for an `Option`\n",
        "            selected_idx:int=None, # Index location of selected `Option`\n",
        "            disabled_idxs:set=None # Idex locations of disabled `Options`\n",
        "           ):\n",
        "    \"Helper function to wrap things into `Option`s for use in `Select`\"\n",
        "    return [fh.Option(o,selected=i==selected_idx, disabled=disabled_idxs and i in disabled_idxs) for i,o in enumerate(c)]"
      ]
    },
    {
      "cell_type": "code",
      "execution_count": null,
      "id": "477a3c8e",
      "metadata": {},
      "outputs": [],
      "source": [
        "#| export\n",
        "def Select(*option,            # Options for the select dropdown (can use `Options` helper function to create)\n",
        "          inp_cls=(),         # Additional classes for the select input\n",
        "          cls=('h-10',),      # Classes for the outer div (default h-10 for consistent height)\n",
        "          cls_custom='button: uk-input-fake; dropdown: w-full', # Classes for the Uk_Select web component\n",
        "          id=\"\",              # ID for the select input\n",
        "          name=\"\",            # Name attribute for the select input\n",
        "          placeholder=\"\",     # Placeholder text for the select input\n",
        "          searchable=False,   # Whether the select should be searchable\n",
        "          insertable=False,   # Whether to allow user-defined options to be added\n",
        "          select_kwargs=None, # Additional Arguments passed to Select\n",
        "          \n",
        "           **kwargs           # Additional arguments passed to Uk_select\n",
        "          ):          \n",
        "    \"Creates a select dropdown with uk styling and option for adding a search box\"\n",
        "    inp_cls, cls, cls_custom= map(stringify, (inp_cls, cls, cls_custom))\n",
        "    select_kwargs = ifnone(select_kwargs, {})\n",
        "\n",
        "    if 'hx_trigger' not in kwargs: kwargs['hx_trigger']=''\n",
        "    if 'change' in kwargs['hx_trigger']:\n",
        "        if not id: id = fh.unqid()\n",
        "        kwargs['hx_trigger'] = kwargs['hx_trigger'].replace('changed', f'uk-select:input from:#{id}')\n",
        "        kwargs['hx_trigger'] = kwargs['hx_trigger'].replace('change', f'uk-select:input from:#{id}')\n",
        "    \n",
        "    if 'delay' not in kwargs['hx_trigger']:\n",
        "        kwargs['hx_trigger'] +=  ' delay:100ms'\n",
        "    \n",
        "    if 'hx_include' not in kwargs: kwargs['hx_include']=''\n",
        "    kwargs['hx_include'] += ' this'\n",
        "    kwargs['hx_include'] = kwargs['hx_include'].strip()\n",
        "        \n",
        "    if id and not name: name = id\n",
        "\n",
        "    uk_select = Uk_select(fh.Select(*option, hidden=True, \n",
        "                                    **select_kwargs, \n",
        "                                    \n",
        "                                    ),\n",
        "                         cls_custom=cls_custom,\n",
        "                         searchable=searchable,\n",
        "                         placeholder=placeholder,\n",
        "                         insertable=insertable,\n",
        "                         cls=inp_cls,\n",
        "                          id=id,\n",
        "                          name=name,\n",
        "                          **kwargs\n",
        "                         )\n",
        "    \n",
        "    return Div(cls=cls)(uk_select)"
      ]
    },
    {
      "cell_type": "code",
      "execution_count": null,
      "id": "3b50363e",
      "metadata": {},
      "outputs": [],
      "source": [
        "#| export\n",
        "def LabelSelect(*option,            # Options for the select dropdown (can use `Options` helper function to create) \n",
        "             label=(),           # String or FT component for the label\n",
        "             lbl_cls=(),         # Additional classes for the label\n",
        "             inp_cls=(),         # Additional classes for the select input\n",
        "             cls=('space-y-2',), # Classes for the outer div\n",
        "             id=\"\",              # ID for the select input\n",
        "             name=\"\",            # Name attribute for the select input\n",
        "             placeholder=\"\",     # Placeholder text for the select input\n",
        "             searchable=False,   # Whether the select should be searchable\n",
        "             select_kwargs=None, # Additional Arguments passed to Select\n",
        "             **kwargs):          # Additional arguments passed to Select\n",
        "    \"A FormLabel and Select pair that provides default spacing and links/names them based on id\"\n",
        "    lbl_cls, inp_cls, cls = map(stringify, (lbl_cls, inp_cls, cls))\n",
        "    select_kwargs = ifnone(select_kwargs, {})\n",
        "    if label:\n",
        "        lbl = FormLabel(cls=f'{lbl_cls}', fr=id)(label)\n",
        "    select = Select(*option, inp_cls=inp_cls, id=id, name=name if name else id, \n",
        "                   placeholder=placeholder, searchable=searchable, select_kwargs=select_kwargs, **kwargs)\n",
        "    return Div(cls=cls)(lbl, select) if label else Div(cls=cls)(select)"
      ]
    },
    {
      "cell_type": "code",
      "execution_count": null,
      "id": "79c17d86",
      "metadata": {},
      "outputs": [
        {
          "data": {
            "text/html": [
              "<iframe src=\"http://localhost:8000/_O476kwWsQ6KZkQ1IV3ykOw\" style=\"width: 100%; height: auto; border: none;\" onload=\"{\n",
              "        let frame = this;\n",
              "        window.addEventListener('message', function(e) {\n",
              "            if (e.source !== frame.contentWindow) return; // Only proceed if the message is from this iframe\n",
              "            if (e.data.height) frame.style.height = (e.data.height+1) + 'px';\n",
              "        }, false);\n",
              "    }\" allow=\"accelerometer; autoplay; camera; clipboard-read; clipboard-write; display-capture; encrypted-media; fullscreen; gamepad; geolocation; gyroscope; hid; identity-credentials-get; idle-detection; magnetometer; microphone; midi; payment; picture-in-picture; publickey-credentials-get; screen-wake-lock; serial; usb; web-share; xr-spatial-tracking\"></iframe> "
            ],
            "text/plain": [
              "<IPython.core.display.HTML object>"
            ]
          },
          "execution_count": null,
          "metadata": {},
          "output_type": "execute_result"
        }
      ],
      "source": [
        "Show(\n",
        " Div(cls='h-48')(LabelSelect(\n",
        "                      Option(\"Select a verified email to display\", value=\"\", selected=True, disabled=True),\n",
        "                     *[Option(o, value=o) for o in ('m@example.com', 'm@yahoo.com', 'm@cloud.com')],  \n",
        "                     label=\"Email\", id=\"email\",\n",
        " searchable=True)))"
      ]
    },
    {
      "cell_type": "code",
      "execution_count": null,
      "id": "443e2641",
      "metadata": {},
      "outputs": [],
      "source": [
        "#| export\n",
        "@delegates(GenericLabelInput, but=['input_fn','cls'])\n",
        "def LabelRange(label:str|FT, # FormLabel content (often text)\n",
        "               lbl_cls='', # Additional classes for `FormLabel`\n",
        "               input_cls='', # Additional classes for `Range`\n",
        "               cls='space-y-6', # Classes on container (default is `'space-y-2'` to prevent scrunched up form elements)\n",
        "               id='', # id for `FormLabel` and `Range` (`id`, `name` and `for` attributes are set to this value)\n",
        "               value='', # Value for the range input\n",
        "               min=None, # Minimum value\n",
        "               max=None, # Maximum value\n",
        "               step=None, # Step size\n",
        "               label_range=True, # Whether to show the range value label (label for the `Range` component)\n",
        "               **kwargs # Additional args for `Range`\n",
        "               )->FT:  # Div(cls='space-y-2')(`FormLabel`, `Range`)\n",
        "    \"A FormLabel and Range pair that provides default spacing and links/names them based on id\"\n",
        "    def range_with_value(**kw): \n",
        "        return Div(Range(value=value, min=min, max=max, step=step, label=label_range, **kw))\n",
        "    return GenericLabelInput(label=label, lbl_cls=lbl_cls, input_cls=input_cls,\n",
        "                           container=Div, cls=cls, id=id, input_fn=range_with_value, **kwargs)"
      ]
    },
    {
      "cell_type": "code",
      "execution_count": null,
      "id": "cdaf2fdd",
      "metadata": {},
      "outputs": [],
      "source": [
        "# Show(Div(cls='space-y-6')(\n",
        "#     LabelRange('Basic Range', value='50', min=0, max=100, step=1),\n",
        "#     LabelRange('Range with Label', value='75', min=0, max=100, step=5, label_range=True),\n",
        "#     LabelRange('Multiple Values', value='25,75', min=0, max=100, step=5, label_range=True),\n",
        "#     LabelRange('Custom Range', value='500', min=0, max=1000, step=100, label_range=True)\n",
        "# ))"
      ]
    },
    {
      "cell_type": "markdown",
      "id": "a51be92e",
      "metadata": {},
      "source": [
        "## Links"
      ]
    },
    {
      "cell_type": "code",
      "execution_count": null,
      "id": "2301e943",
      "metadata": {},
      "outputs": [],
      "source": [
        "#| export\n",
        "class AT(VEnum):\n",
        "    'Link styles from https://franken-ui.dev/docs/link'\n",
        "    def _generate_next_value_(name, start, count, last_values): return str2ukcls('link', name)\n",
        "    muted = auto()\n",
        "    text = auto()\n",
        "    reset = auto()\n",
        "    primary = 'uk-link text-primary hover:text-primary-focus underline'\n",
        "    classic = 'text-blue-600 hover:text-blue-800 underline'"
      ]
    },
    {
      "cell_type": "markdown",
      "id": "214f2635",
      "metadata": {},
      "source": [
        "## Lists"
      ]
    },
    {
      "cell_type": "code",
      "execution_count": null,
      "id": "6faf97f9",
      "metadata": {},
      "outputs": [],
      "source": [
        "#| export\n",
        "class ListT(VEnum):\n",
        "    'List styles using Tailwind CSS'\n",
        "    disc = 'list-disc list-inside'\n",
        "    circle = 'list-[circle] list-inside' \n",
        "    square = 'list-[square] list-inside'\n",
        "    decimal = 'uk-list uk-list-decimal'\n",
        "    hyphen = 'uk-list uk-list-hyphen'\n",
        "    bullet = 'uk-list uk-list-bullet'\n",
        "    divider = 'uk-list uk-list-divider'\n",
        "    striped = 'uk-list uk-list-striped'"
      ]
    },
    {
      "cell_type": "markdown",
      "id": "973d656e",
      "metadata": {},
      "source": [
        "## Modal"
      ]
    },
    {
      "cell_type": "code",
      "execution_count": null,
      "id": "86708593",
      "metadata": {},
      "outputs": [],
      "source": [
        "#| export\n",
        "def ModalContainer(*c, # Components to put in the modal (often `ModalDialog`)\n",
        "                     cls=(), # Additional classes on the `ModalContainer`\n",
        "                     **kwargs # Additional args for `Div` tag\n",
        "                     )->FT: # Div(..., cls='uk-modal uk-modal-container')\n",
        "    \"Creates a modal container that components go in\"\n",
        "    return fh.Div(*c, cls=('uk-modal uk-modal-container',stringify(cls)), data_uk_modal=True, **kwargs)\n",
        "def ModalDialog(*c, # Components to put in the `ModalDialog` (often `ModalBody`, `ModalHeader`, etc)\n",
        "                  cls=(), # Additional classes on the `ModalDialog`\n",
        "                  **kwargs # Additional args for `Div` tag\n",
        "                  )->FT: # Div(..., cls='uk-modal-dialog')\n",
        "    \"Creates a modal dialog\"\n",
        "    return fh.Div(*c, cls=('uk-modal-dialog',   stringify(cls)),                **kwargs)\n",
        "def ModalHeader(*c, # Components to put in the `ModalHeader`\n",
        "                  cls=(), # Additional classes on the `ModalHeader`\n",
        "                  **kwargs # Additional args for `Div` tag\n",
        "                  )->FT: # Div(..., cls='uk-modal-header')\n",
        "    \"Creates a modal header\"\n",
        "    return fh.Div(*c, cls=('uk-modal-header',   stringify(cls)),                **kwargs)\n",
        "def ModalBody(*c, # Components to put in the `ModalBody` (often forms, sign in buttons, images, etc.)\n",
        "               cls=(), # Additional classes on the `ModalBody`\n",
        "               **kwargs # Additional args for `Div` tag\n",
        "               )->FT: # Div(..., cls='uk-modal-body')\n",
        "    \"Creates a modal body\"\n",
        "    return fh.Div(*c, cls=('uk-modal-body',     stringify(cls)),                **kwargs)\n",
        "def ModalFooter(*c, # Components to put in the `ModalFooter` (often buttons)\n",
        "                 cls=(), # Additional classes on the `ModalFooter`\n",
        "                 **kwargs # Additional args for `Div` tag\n",
        "                 )->FT: # Div(..., cls='uk-modal-footer')\n",
        "    \"Creates a modal footer\"\n",
        "    return fh.Div(*c, cls=('uk-modal-footer',   stringify(cls)),                **kwargs)\n",
        "def ModalTitle(*c, # Components to put in the `ModalTitle` (often text)\n",
        "                cls=(), # Additional classes on the `ModalTitle`\n",
        "                **kwargs # Additional args for `H2` tag\n",
        "                )->FT: # H2(..., cls='uk-modal-title')\n",
        "    \"Creates a modal title\"\n",
        "    return fh.H2(*c,  cls=('uk-modal-title',  stringify(cls)),  **kwargs)\n",
        "def ModalCloseButton(*c, # Components to put in the button (often text and/or an icon)\n",
        "                      cls=\"absolute top-3 right-3\", # Additional classes on the button\n",
        "                      **kwargs # Additional args for `Button` tag\n",
        "                      )->FT: # Button(..., cls='uk-modal-close')\n",
        "    \"Creates a button that closes a modal with js\"\n",
        "    cls = (stringify(cls), 'uk-modal-close')\n",
        "    kwargs['data-uk-close'] = True\n",
        "    return Button(*c, cls=(stringify(cls)), **kwargs)"
      ]
    },
    {
      "cell_type": "code",
      "execution_count": null,
      "id": "962cb933",
      "metadata": {},
      "outputs": [],
      "source": [
        "#| export\n",
        "def Modal(*c,                 # Components to put in the `ModalBody` (often forms, sign in buttons, images, etc.)\n",
        "        header=None,          # Components that go in the `ModalHeader` (often a `ModalTitle`)\n",
        "        footer=None,          # Components that go in the `ModalFooter` (often a `ModalCloseButton`)\n",
        "        cls=(),               # Additional classes on the outermost `ModalContainer` \n",
        "        dialog_cls=(),        # Additional classes on the `ModalDialog` \n",
        "        header_cls='p-6',     # Additional classes on the `ModalHeader`\n",
        "        body_cls='space-y-6', # Additional classes on the `ModalBody`\n",
        "        footer_cls=(),        # Additional classes on the `ModalFooter`\n",
        "        id='',                # id for the outermost container\n",
        "        hx_init=False,        # Initialize modal with UIKit on load (used for modals added to the DOM by HTMX)\n",
        "        hx_open=False,        # Open modal on load (used for modals added to the DOM by HTMX)\n",
        "        **kwargs              # Additional args for the outermost `Div` tag\n",
        "        )->FT: # Fully styled modal FT Component\n",
        "    \"Creates a modal with the appropriate classes to put the boilerplate in the appropriate places for you\"\n",
        "    if not id: id = fh.unqid()\n",
        "    if hx_open: kwargs[\"hx_on__load\"] = f\"UIkit.modal('#{id}').show()\"\n",
        "    if hx_init and not hx_open: kwargs[\"hx_on__load\"] = f\"UIkit.modal('#{id}')\"\n",
        "    if hx_open or hx_init: kwargs[\"hx-on:hidden\"] = \"this.remove()\"\n",
        "    cls, dialog_cls, header_cls, body_cls, footer_cls = map(stringify, (cls, dialog_cls, header_cls, body_cls, footer_cls))\n",
        "    res = []\n",
        "    if header: res.append(ModalHeader(cls=header_cls)(header))\n",
        "    res.append(ModalBody(cls=body_cls)(*c))\n",
        "    if footer: res.append(ModalFooter(cls=footer_cls)(footer))\n",
        "    return ModalContainer(ModalDialog(*res, cls=dialog_cls), cls=cls, id=id, **kwargs)"
      ]
    },
    {
      "cell_type": "markdown",
      "id": "4136c713",
      "metadata": {},
      "source": [
        "## Exploring modals:"
      ]
    },
    {
      "cell_type": "markdown",
      "id": "4b4740c3",
      "metadata": {},
      "source": [
        "**Idea**\n",
        "\n",
        "> Possible add dual functionality to the modal by default - adding an option for HTMX or pure Javascript? Already have the htmx kwarg, maybe just clean it up so both work well"
      ]
    },
    {
      "cell_type": "code",
      "execution_count": null,
      "id": "8116c952",
      "metadata": {},
      "outputs": [],
      "source": [
        "test_modal = Modal(Caption(\"This is a test modal\"), header=Span(ModalTitle(\"Modal Heading\"), ModalCloseButton(htmx=True)), footer=P(\"Modal Footer\"), id=\"mymodal\", open=True)"
      ]
    },
    {
      "cell_type": "code",
      "execution_count": null,
      "id": "2188fc85",
      "metadata": {},
      "outputs": [],
      "source": [
        "@rt\n",
        "def _modal(): return test_modal"
      ]
    },
    {
      "cell_type": "code",
      "execution_count": null,
      "id": "d59ff966",
      "metadata": {},
      "outputs": [
        {
          "data": {
            "text/html": [
              "<iframe src=\"http://localhost:8000/_iZ8b7sO5Sri_JWJHCTkn3w\" style=\"width: 100%; height: 500px; border: none;\" onload=\"\" allow=\"accelerometer; autoplay; camera; clipboard-read; clipboard-write; display-capture; encrypted-media; fullscreen; gamepad; geolocation; gyroscope; hid; identity-credentials-get; idle-detection; magnetometer; microphone; midi; payment; picture-in-picture; publickey-credentials-get; screen-wake-lock; serial; usb; web-share; xr-spatial-tracking\"></iframe> "
            ],
            "text/plain": [
              "<IPython.core.display.HTML object>"
            ]
          },
          "execution_count": null,
          "metadata": {},
          "output_type": "execute_result"
        }
      ],
      "source": [
        "Show(Container(Button(\"Open\", hx_get=_modal, hx_swap=\"beforeend\", hx_target='body')), height=500)"
      ]
    },
    {
      "cell_type": "markdown",
      "id": "f7b1880d",
      "metadata": {},
      "source": [
        "## Other"
      ]
    },
    {
      "cell_type": "code",
      "execution_count": null,
      "id": "062e2c65",
      "metadata": {},
      "outputs": [],
      "source": [
        "#| export\n",
        "def Placeholder(*c, # Components to put in the placeholder\n",
        "                  cls=(), # Additional classes on the placeholder\n",
        "                  **kwargs # Additional args for `Div` tag\n",
        "                  )->FT: # Div(..., cls='uk-placeholder')\n",
        "    \"Creates a placeholder\"\n",
        "    return fh.Div(*c, cls=('uk-placeholder',stringify(cls)), **kwargs)"
      ]
    },
    {
      "cell_type": "code",
      "execution_count": null,
      "id": "0aaf6a63",
      "metadata": {},
      "outputs": [],
      "source": [
        "#| export\n",
        "def Progress(*c, # Components to put in the progress bar (often nothing)\n",
        "             cls=(), # Additional classes on the progress bar\n",
        "             value=\"\", # Value of the progress bar\n",
        "             max=\"100\", # Max value of the progress bar (defaults to 100 for percentage)\n",
        "             **kwargs # Additional args for `Progress` tag\n",
        "             )->FT: # Progress(..., cls='uk-progress')\n",
        "    \"Creates a progress bar\"\n",
        "    return fh.Progress(*c, value=value, max=max, cls=('uk-progress',stringify(cls)), **kwargs)"
      ]
    },
    {
      "cell_type": "markdown",
      "id": "4509a22a",
      "metadata": {},
      "source": [
        "## Icons and Avatars"
      ]
    },
    {
      "cell_type": "code",
      "execution_count": null,
      "id": "6e0ea901",
      "metadata": {},
      "outputs": [],
      "source": [
        "#| export\n",
        "def UkIcon(icon:str, # Icon name from [lucide icons](https://lucide.dev/icons/)\n",
        "           height:int=None, \n",
        "           width:int=None, \n",
        "           stroke_width:int=None, # Thickness of lines\n",
        "           cls=(), # Additional classes on the `Uk_icon` tag\n",
        "           **kwargs # Additional args for `Uk_icon` tag\n",
        "           )->FT: # a lucide icon of the specified size \n",
        "    \"Creates an icon using lucide icons\"\n",
        "    return Uk_icon(icon=icon, height=height, width=width, stroke_width=stroke_width, cls=cls, **kwargs)"
      ]
    },
    {
      "cell_type": "code",
      "execution_count": null,
      "id": "ffb2568c",
      "metadata": {},
      "outputs": [],
      "source": [
        "#| export\n",
        "def UkIconLink(icon:str,  # Icon name from [lucide icons](https://lucide.dev/icons/)\n",
        "           height:int=None, \n",
        "           width:int=None, \n",
        "           stroke_width:int=None, # Thickness of lines\n",
        "           cls=(), # Additional classes on the icon\n",
        "           button:bool=False, # Whether to use a button (defaults to a link)\n",
        "           **kwargs # Additional args for `A` or `Button` tag\n",
        "           )->FT: # a lucide icon  button or link of the specified size\n",
        "    \"Creates an icon link using lucide icons\"\n",
        "    fn = fh.Button if button else fh.A\n",
        "    return fn(cls=(f\"uk-icon-{'button' if button else 'link'}\", stringify(cls)), **kwargs)(\n",
        "        UkIcon(icon=icon, height=height, width=width, stroke_width=stroke_width))"
      ]
    },
    {
      "cell_type": "code",
      "execution_count": null,
      "id": "8ed62dbf",
      "metadata": {},
      "outputs": [],
      "source": [
        "class IconButtonT(VEnum):\n",
        "    xs = 'uk-icon-button-xsmall'\n",
        "    sm = 'uk-icon-button-small'\n",
        "    outline= 'uk-icon-button-outline'"
      ]
    },
    {
      "cell_type": "code",
      "execution_count": null,
      "id": "052b0814",
      "metadata": {},
      "outputs": [],
      "source": [
        "#| export\n",
        "def DiceBearAvatar(seed_name:str, # Seed name (ie 'Isaac Flath')\n",
        "                   h:int=20,         # Height \n",
        "                   w:int=20,          # Width\n",
        "                  ):          # Span with Avatar\n",
        "    \"Creates an Avatar using https://dicebear.com/\"\n",
        "    url = 'https://api.dicebear.com/8.x/lorelei/svg?seed='\n",
        "    return Span(cls=f\"relative flex h-{h} w-{w} shrink-0 overflow-hidden rounded-full bg-secondary\")(\n",
        "            fh.Img(cls=f\"aspect-square h-{h} w-{w}\", alt=\"Avatar\", loading=\"lazy\", src=f\"{url}{seed_name}\"))"
      ]
    },
    {
      "cell_type": "markdown",
      "id": "01cc7f66",
      "metadata": {},
      "source": [
        "## Flexbox | Grid"
      ]
    },
    {
      "cell_type": "markdown",
      "id": "93285680",
      "metadata": {},
      "source": [
        "The most common pattern for spacing it to organize the general high level page layout with a `Grid`, and smaller components with `Flex`.\n",
        "\n",
        ":::{.callout-tip}\n",
        "Play [Flex Box Froggy](https://flexboxfroggy.com/) to get an understanding of flex box.\n",
        ":::"
      ]
    },
    {
      "cell_type": "code",
      "execution_count": null,
      "id": "d97ba141",
      "metadata": {},
      "outputs": [],
      "source": [
        "#| export\n",
        "def Center(*c, # Components to center\n",
        "          vertical:bool=True, # Whether to center vertically\n",
        "          horizontal:bool=True, # Whether to center horizontally \n",
        "          cls=(), # Additional classes\n",
        "          **kwargs # Additional args for container div\n",
        "          )->FT: # Div with centered contents\n",
        "    \"Centers contents both vertically and horizontally by default\"\n",
        "    classes = ['flex']\n",
        "    if vertical: classes.append('items-center min-h-full') \n",
        "    if horizontal: classes.append('justify-center min-w-full')\n",
        "    return fh_comp.Center(*c, cls=(stringify(classes), stringify(cls)), **kwargs)"
      ]
    },
    {
      "cell_type": "code",
      "execution_count": null,
      "id": "81e07739",
      "metadata": {},
      "outputs": [],
      "source": [
        "# Show(Div(\n",
        "#     H2(\"All centered (default)\"),\n",
        "#     Div(cls='h-48')(Center(H1(\"Center()\"), cls='bg-secondary')),\n",
        "#     H2(\"Only vertically centered\"),\n",
        "#     Div(cls='h-48')(Center(H1(\"Center(horizontal=False)\"), horizontal=False, cls='bg-secondary')),\n",
        "#     H2(\"Only horizontally centered\"),\n",
        "#     Div(cls='h-48')(Center(H1(\"Center(vertical=False)\"), vertical=False, cls='bg-secondary')),\n",
        "#     H2(\"Not centered\"),\n",
        "#     Div(cls='h-48')(Center(H1(\"Center(vertical=False, horizontal=False)\"), vertical=False, horizontal=False, cls='bg-secondary')),\n",
        "#     cls='space-y-4'\n",
        "# ))"
      ]
    },
    {
      "cell_type": "code",
      "execution_count": null,
      "id": "f6580e01",
      "metadata": {},
      "outputs": [
        {
          "data": {
            "text/html": [
              "\n",
              "<script>\n",
              "document.body.addEventListener('htmx:configRequest', (event) => {\n",
              "    if(event.detail.path.includes('://')) return;\n",
              "    htmx.config.selfRequestsOnly=false;\n",
              "    event.detail.path = `${location.protocol}//${location.hostname}:8008${event.detail.path}`;\n",
              "});\n",
              "</script>"
            ],
            "text/plain": [
              "<IPython.core.display.HTML object>"
            ]
          },
          "metadata": {},
          "output_type": "display_data"
        }
      ],
      "source": [
        "from fasthtml.jupyter import *\n",
        "from monsterui.all import *\n",
        "from functools import partial\n",
        "app, rt = fast_app(hdrs=Theme.blue.headers(apex_charts=True))\n",
        "server = JupyUvi(app, port=8008)"
      ]
    },
    {
      "cell_type": "code",
      "execution_count": null,
      "id": "5f789304",
      "metadata": {},
      "outputs": [],
      "source": [
        "Show = partial(HTMX, app=app, port = 8008)"
      ]
    },
    {
      "cell_type": "code",
      "execution_count": null,
      "id": "4648ad79",
      "metadata": {},
      "outputs": [],
      "source": [
        "#| export\n",
        "class FlexT(VEnum):\n",
        "    'Flexbox modifiers using Tailwind CSS'\n",
        "    def _generate_next_value_(name, start, count, last_values): return name\n",
        "    \n",
        "    # Display\n",
        "    block = 'flex'\n",
        "    inline = 'inline-flex'\n",
        "    \n",
        "    # Horizontal Alignment\n",
        "    left = 'justify-start' \n",
        "    center = 'justify-center'\n",
        "    right = 'justify-end'\n",
        "    between = 'justify-between'\n",
        "    around = 'justify-around'\n",
        "    \n",
        "    # Vertical Alignment\n",
        "    stretch = 'items-stretch'\n",
        "    top = 'items-start'\n",
        "    middle = 'items-center' \n",
        "    bottom = 'items-end'\n",
        "    \n",
        "    # Direction\n",
        "    row = 'flex-row'\n",
        "    row_reverse = 'flex-row-reverse'\n",
        "    column = 'flex-col'\n",
        "    column_reverse = 'flex-col-reverse'\n",
        "    \n",
        "    # Wrap\n",
        "    nowrap = 'flex-nowrap'\n",
        "    wrap = 'flex-wrap'\n",
        "    wrap_reverse = 'flex-wrap-reverse'"
      ]
    },
    {
      "cell_type": "code",
      "execution_count": null,
      "id": "7a2f0a89",
      "metadata": {},
      "outputs": [],
      "source": []
    },
    {
      "cell_type": "code",
      "execution_count": null,
      "id": "edb685b5",
      "metadata": {},
      "outputs": [],
      "source": [
        "#|export\n",
        "def Grid(*div, # `Div` components to put in the grid\n",
        "         cols_min:int=1, # Minimum number of columns at any screen size\n",
        "         cols_max:int=4, # Maximum number of columns allowed at any screen size\n",
        "         cols_sm:int=None, # Number of columns on small screens\n",
        "         cols_md:int=None, # Number of columns on medium screens\n",
        "         cols_lg:int=None, # Number of columns on large screens\n",
        "         cols_xl:int=None, # Number of columns on extra large screens\n",
        "         cols:int=None, # Number of columns on all screens\n",
        "         cls='gap-4', # Additional classes on the grid (tip: `gap` provides spacing for grids)\n",
        "         **kwargs # Additional args for `Div` tag\n",
        "         )->FT: # Responsive grid component\n",
        "    \"Creates a responsive grid layout with smart defaults based on content\"\n",
        "    if cols: cols_min = cols_sm = cols_md = cols_lg = cols_xl = cols\n",
        "    else:\n",
        "        n = len(div)\n",
        "        cols_max = min(n, cols_max)\n",
        "        cols_sm = cols_sm or min(n, cols_min, cols_max)\n",
        "        cols_md = cols_md or min(n, cols_min+1, cols_max) \n",
        "        cols_lg = cols_lg or min(n, cols_min+2, cols_max) \n",
        "        cols_xl = cols_xl or cols_max\n",
        "    return Div(cls=(f'grid grid-cols-{cols_min} sm:grid-cols-{cols_sm} md:grid-cols-{cols_md} lg:grid-cols-{cols_lg} xl:grid-cols-{cols_xl}', stringify(cls)), **kwargs)(*div)"
      ]
    },
    {
      "cell_type": "code",
      "execution_count": null,
      "id": "11e1d241",
      "metadata": {},
      "outputs": [],
      "source": [
        "#| export\n",
        "def DivFullySpaced(*c,                # Components\n",
        "                   cls='w-full',# Classes for outer div (`w-full` makes it use all available width)\n",
        "                   **kwargs           # Additional args for outer div\n",
        "                  ):                  # Div with spaced components via flex classes\n",
        "    \"Creates a flex div with it's components having as much space between them as possible\"\n",
        "    cls = stringify(cls)\n",
        "    return Div(cls=(FlexT.block,FlexT.between,FlexT.middle,cls), **kwargs)(*c)"
      ]
    },
    {
      "cell_type": "code",
      "execution_count": null,
      "id": "f01fe37c",
      "metadata": {},
      "outputs": [],
      "source": [
        "#| export\n",
        "def DivCentered(*c,      # Components\n",
        "                cls='space-y-4',  # Classes for outer div (`space-y-4` provides spacing between components)\n",
        "                vstack=True, # Whether to stack the components vertically\n",
        "                **kwargs # Additional args for outer div\n",
        "               )->FT: # Div with components centered in it\n",
        "    \"Creates a flex div with it's components centered in it\"\n",
        "    cls=stringify(cls)\n",
        "    return Div(cls=(FlexT.block,(FlexT.column if vstack else FlexT.row),FlexT.middle,FlexT.center,cls),**kwargs)(*c)"
      ]
    },
    {
      "cell_type": "code",
      "execution_count": null,
      "id": "6c38c8af",
      "metadata": {},
      "outputs": [],
      "source": [
        "#| export\n",
        "def DivLAligned(*c, # Components\n",
        "                cls='space-x-4',  # Classes for outer div\n",
        "                **kwargs # Additional args for outer div\n",
        "               )->FT: # Div with components aligned to the left\n",
        "    \"Creates a flex div with it's components aligned to the left\"\n",
        "    cls=stringify(cls)\n",
        "    return Div(cls=(FlexT.block,FlexT.left,FlexT.middle,cls), **kwargs)(*c)"
      ]
    },
    {
      "cell_type": "code",
      "execution_count": null,
      "id": "0209ff32",
      "metadata": {},
      "outputs": [],
      "source": [
        "#| export\n",
        "def DivRAligned(*c, # Components\n",
        "                cls='space-x-4',  # Classes for outer div\n",
        "                **kwargs # Additional args for outer div\n",
        "               )->FT: # Div with components aligned to the right\n",
        "    \"Creates a flex div with it's components aligned to the right\"\n",
        "    cls=stringify(cls)\n",
        "    return Div(cls=(FlexT.block,FlexT.right,FlexT.middle,cls), **kwargs)(*c)"
      ]
    },
    {
      "cell_type": "code",
      "execution_count": null,
      "id": "130f5b56",
      "metadata": {},
      "outputs": [],
      "source": [
        "#| export\n",
        "def DivVStacked(*c, # Components\n",
        "                cls='space-y-4', # Additional classes on the div  (tip: `space-y-4` provides spacing between components)\n",
        "                **kwargs # Additional args for the div\n",
        "               )->FT: # Div with components stacked vertically\n",
        "    \"Creates a flex div with it's components stacked vertically\"\n",
        "    cls=stringify(cls)\n",
        "    return Div(cls=(FlexT.block,FlexT.column,FlexT.middle,cls), **kwargs)(*c)"
      ]
    },
    {
      "cell_type": "code",
      "execution_count": null,
      "id": "a583eefe",
      "metadata": {},
      "outputs": [],
      "source": [
        "#| export\n",
        "def DivHStacked(*c, # Components\n",
        "                cls='space-x-4', # Additional classes on the div (`space-x-4` provides spacing between components)\n",
        "                **kwargs # Additional args for the div\n",
        "               )->FT: # Div with components stacked horizontally\n",
        "    \"Creates a flex div with it's components stacked horizontally\"\n",
        "    cls=stringify(cls)\n",
        "    return Div(cls=(FlexT.block,FlexT.row,FlexT.middle,cls), **kwargs)(*c)"
      ]
    },
    {
      "cell_type": "markdown",
      "id": "293f142a",
      "metadata": {},
      "source": [
        "## Nav"
      ]
    },
    {
      "cell_type": "code",
      "execution_count": null,
      "id": "505ca979",
      "metadata": {},
      "outputs": [],
      "source": [
        "#| export\n",
        "class NavT(VEnum):\n",
        "    def _generate_next_value_(name, start, count, last_values): return str2ukcls('nav', name)\n",
        "    default = auto()\n",
        "    primary = auto()\n",
        "    secondary = auto()"
      ]
    },
    {
      "cell_type": "code",
      "execution_count": null,
      "id": "d99a277f",
      "metadata": {},
      "outputs": [],
      "source": [
        "#| export\n",
        "def NavContainer(*li, # List items are navigation elements (Special `Li` such as `NavParentLi`, `NavDividerLi`, `NavHeaderLi`, `NavSubtitle`, `NavCloseLi` can also be used)\n",
        "                 cls=NavT.primary, # Additional classes on the nav\n",
        "                 parent=True, # Whether this nav is a *parent* or *sub* nav\n",
        "                 uk_nav=False, #True for default collapsible behavior, see [frankenui docs](https://franken-ui.dev/docs/nav#component-options) for more advanced options\n",
        "                 uk_scrollspy_nav=False, # Activates scrollspy linking each item `A` tags `href` to content's `id` attribute\n",
        "                 sticky=False, # Whether to stick to the top of the page while scrolling\n",
        "                 **kwargs # Additional args\n",
        "                 )->FT: # FT Component that is a list of `Li` styled for a sidebar navigation menu\n",
        "    \"Creates a navigation container (useful for creating a sidebar navigation).  A Nav is a list (NavBar is something different)\"\n",
        "    _uk_scrollspy_nav = False\n",
        "    if uk_scrollspy_nav:\n",
        "        if isinstance(uk_scrollspy_nav, bool):  _uk_scrollspy_nav = 'closest: li; scroll: true' if uk_scrollspy_nav else False\n",
        "        else:  _uk_scrollspy_nav = uk_scrollspy_nav\n",
        "    _sticky = 'float-left sticky top-4 hidden md:block' if sticky else ''\n",
        "    return fh.Ul(*li, uk_nav=uk_nav, cls=(f\"uk-nav{'' if parent else '-sub'}\", stringify(cls), _sticky), uk_scrollspy_nav=_uk_scrollspy_nav, **kwargs)"
      ]
    },
    {
      "cell_type": "code",
      "execution_count": null,
      "id": "0539b25a",
      "metadata": {},
      "outputs": [],
      "source": [
        "#| export\n",
        "def NavParentLi(*nav_container, # `NavContainer` container for a nested nav with `parent=False`)\n",
        "                cls=(), # Additional classes on the li\n",
        "                **kwargs # Additional args for the li\n",
        "               )->FT: # Navigation list item\n",
        "    \"Creates a navigation list item with a parent nav for nesting\"\n",
        "    return fh.Li(*nav_container,  cls=('uk-parent',  stringify(cls)),**kwargs)\n",
        "def NavDividerLi(*c, # Components\n",
        "                 cls=(), # Additional classes on the li\n",
        "                 **kwargs # Additional args for the li\n",
        "                )->FT: # Navigation list item with a divider\n",
        "    \"Creates a navigation list item with a divider\"\n",
        "    return fh.Li(*c, cls=('uk-nav-divider', stringify(cls)),**kwargs)\n",
        "def NavHeaderLi(*c, # Components\n",
        "                cls=(), # Additional classes on the li\n",
        "                **kwargs # Additional args for the li\n",
        "               )->FT: # Navigation list item with a header\n",
        "    \"Creates a navigation list item with a header\"\n",
        "    return fh.Li(*c, cls=('uk-nav-header', stringify(cls)),**kwargs)\n",
        "def NavSubtitle(*c, # Components\n",
        "                 cls=TextPresets.muted_sm, # Additional classes on the div\n",
        "                 **kwargs # Additional args for the div\n",
        "                )->FT: # Navigation subtitle\n",
        "    \"Creates a navigation subtitle\"\n",
        "    return fh.Div(*c, cls=('uk-nav-subtitle', stringify(cls)),**kwargs)\n",
        "def NavCloseLi(*c, # Components\n",
        "               cls=(), # Additional classes on the li\n",
        "               **kwargs # Additional args for the li\n",
        "              )->FT: # Navigation list item with a close button\n",
        "    \"Creates a navigation list item with a close button\"\n",
        "    return fh.Li(*c, cls=('uk-drop-close', stringify(cls)),**kwargs)"
      ]
    },
    {
      "cell_type": "code",
      "execution_count": null,
      "id": "ee713a6e",
      "metadata": {},
      "outputs": [],
      "source": [
        "def NavParentIcon(): return Span(uk_nav_parent_icon=True)"
      ]
    },
    {
      "cell_type": "markdown",
      "id": "331a69a0",
      "metadata": {},
      "source": [
        "## Navbar"
      ]
    },
    {
      "cell_type": "code",
      "execution_count": null,
      "id": "df4312e3",
      "metadata": {},
      "outputs": [],
      "source": [
        "#| export\n",
        "class ScrollspyT(VEnum):\n",
        "    underline = 'navbar-underline'\n",
        "    bold = 'navbar-bold'"
      ]
    },
    {
      "cell_type": "code",
      "execution_count": null,
      "id": "398e8988",
      "metadata": {},
      "outputs": [],
      "source": [
        "#| export\n",
        "def NavBar(*c, # Component for right side of navbar (Often A tag links)\n",
        "           brand=H3(\"Title\"), # Brand/logo component for left side\n",
        "           right_cls='items-center space-x-4', # Spacing for desktop links\n",
        "           mobile_cls='space-y-4', # Spacing for mobile links\n",
        "           sticky:bool=False, # Whether to stick to the top of the page while scrolling\n",
        "           uk_scrollspy_nav:bool|str=False, # Whether to use scrollspy for navigation\n",
        "           cls='p-4', # Classes for navbar\n",
        "           scrollspy_cls=ScrollspyT.underline, # Scrollspy class (usually ScrollspyT.*)\n",
        "           menu_id=None, # ID for menu container (used for mobile toggle)\n",
        "           )->FT: # Responsive NavBar\n",
        "    \"Creates a responsive navigation bar with mobile menu support\"\n",
        "    if menu_id is None: menu_id = fh.unqid()\n",
        "    sticky_cls = 'sticky top-0 bg-base-100/80 backdrop-blur-sm z-50' if sticky else ''\n",
        "    if uk_scrollspy_nav == True: uk_scrollspy_nav = 'closest: a; scroll: true'\n",
        "\n",
        "    mobile_icon = A(UkIcon(\"menu\", width=30, height=30), cls=\"md:hidden\", data_uk_toggle=f\"target: #{menu_id}; cls: hidden\")\n",
        "    return Div(\n",
        "        Div(\n",
        "            DivFullySpaced(\n",
        "                brand, # Brand/logo component for left side\n",
        "                mobile_icon, # Hamburger menu icon\n",
        "                Div(*c,cls=(stringify(right_cls),'hidden md:flex'), uk_scrollspy_nav=uk_scrollspy_nav)),# Desktop Navbar (right side)\n",
        "            cls=('monster-navbar', stringify(cls), stringify(scrollspy_cls))\n",
        "            ),\n",
        "        DivCentered(*c, \n",
        "                    cls=(stringify(mobile_cls),stringify(cls), stringify(scrollspy_cls),\n",
        "                         'hidden md:hidden monster-navbar'), \n",
        "                    id=menu_id, uk_scrollspy_nav=uk_scrollspy_nav),\n",
        "        cls=sticky_cls)"
      ]
    },
    {
      "cell_type": "markdown",
      "id": "332e3968",
      "metadata": {},
      "source": [
        "## Slider"
      ]
    },
    {
      "cell_type": "code",
      "execution_count": null,
      "id": "a6ea2c0e",
      "metadata": {},
      "outputs": [],
      "source": [
        "#| export\n",
        "def SliderContainer(\n",
        "        *c, # Components\n",
        "        cls='', # Additional classes on the container\n",
        "        uk_slider=True, # See FrankenUI Slider docs for more options\n",
        "        **kwargs # Additional args for the container\n",
        "    ) -> FT: # Div(..., cls='relative', uk_slider=True, ...)\n",
        "    \"Creates a slider container\"\n",
        "    return Div(*c, cls=('relative', stringify(cls)), uk_slider=uk_slider, **kwargs)"
      ]
    },
    {
      "cell_type": "code",
      "execution_count": null,
      "id": "da2f1202",
      "metadata": {},
      "outputs": [],
      "source": [
        "#| export\n",
        "def SliderItems(\n",
        "        *c, # Components\n",
        "        cls='', # Additional classes for the items\n",
        "        **kwargs # Additional args for the items\n",
        "    ) -> FT: # Div(..., cls='uk-slider-items uk-grid', ...)\n",
        "    \"Creates a slider items container\"\n",
        "    return Div(*c, cls=('uk-slider-items uk-grid', stringify(cls)), **kwargs)"
      ]
    },
    {
      "cell_type": "code",
      "execution_count": null,
      "id": "e25bfae7",
      "metadata": {},
      "outputs": [],
      "source": [
        "# Show(SliderContainer(SliderItems(*[Img(src=f'https://picsum.photos/200/200?random={i}', style='width:200px') for i in range(5)])))"
      ]
    },
    {
      "cell_type": "code",
      "execution_count": null,
      "id": "7edf26f7",
      "metadata": {},
      "outputs": [],
      "source": [
        "#| export\n",
        "def SliderNav(\n",
        "        cls='uk-position-small uk-hidden-hover', # Additional classes for the navigation\n",
        "        prev_cls='absolute left-0 top-1/2 -translate-y-1/2', # Additional classes for the previous navigation\n",
        "        next_cls='absolute right-0 top-1/2 -translate-y-1/2', # Additional classes for the next navigation\n",
        "        **kwargs # Additional args for the navigation\n",
        "    ) -> FT: # Left and right navigation arrows for Slider component\n",
        "    \"Navigation arrows for Slider component\"\n",
        "    return (\n",
        "        fh.A(cls=(prev_cls, stringify(cls)), href='',\n",
        "             uk_slidenav_previous=True, uk_slider_item='previous', **kwargs),\n",
        "        fh.A(cls=(next_cls, stringify(cls)), href='',\n",
        "             uk_slidenav_next=True, uk_slider_item='next', **kwargs)\n",
        "    )"
      ]
    },
    {
      "cell_type": "code",
      "execution_count": null,
      "id": "5aae8c03",
      "metadata": {},
      "outputs": [],
      "source": [
        "#| export\n",
        "def Slider(*c, # Items to show in slider\n",
        "           cls='', # Classes for slider container\n",
        "           items_cls='gap-4', # Classes for items container\n",
        "           nav=True, # Whether to show navigation arrows\n",
        "           nav_cls='', # Classes for navigation arrows\n",
        "           **kwargs # Additional args for slider container\n",
        "    ) -> FT: # SliderContainer(SliderItems(..., cls='gap-4'), SliderNav?)\n",
        "    \"Creates a slider with optional navigation arrows\"\n",
        "    nav_comp = SliderNav(cls=nav_cls) if nav else ()\n",
        "    return SliderContainer(\n",
        "        SliderItems(*c, cls=items_cls),\n",
        "        *nav_comp,\n",
        "        cls=cls,\n",
        "        **kwargs\n",
        "    )"
      ]
    },
    {
      "cell_type": "code",
      "execution_count": null,
      "id": "706f6ccc",
      "metadata": {},
      "outputs": [],
      "source": [
        "# Show(Slider(*[Div(Img(src=f'https://picsum.photos/200/200?random={i}'))\n",
        "#               for i in range(5)]), link=True)"
      ]
    },
    {
      "cell_type": "markdown",
      "id": "f0fa7a22",
      "metadata": {},
      "source": [
        "## DropDown"
      ]
    },
    {
      "cell_type": "code",
      "execution_count": null,
      "id": "34747040",
      "metadata": {},
      "outputs": [],
      "source": [
        "#| export\n",
        "def DropDownNavContainer(*li, # Components\n",
        "                         cls=NavT.primary, # Additional classes on the nav\n",
        "                         parent=True, # Whether to use a parent nav\n",
        "                         uk_nav=False, #True for default collapsible behavior, see https://franken-ui.dev/docs/nav#component-options for more advanced options\n",
        "                         uk_dropdown=True, # Whether to use a dropdown\n",
        "                         **kwargs # Additional args for the nav\n",
        "                        )->FT: # DropDown nav container\n",
        "    \"A Nav that is part of a DropDown\"\n",
        "    return Div(cls = 'uk-drop uk-dropdown',uk_dropdown=uk_dropdown)(NavContainer(*li, cls=('uk-dropdown-nav',stringify(cls)), uk_nav=uk_nav, parent=parent, **kwargs))"
      ]
    },
    {
      "cell_type": "markdown",
      "id": "ac27bf48",
      "metadata": {},
      "source": [
        "## Tabs"
      ]
    },
    {
      "cell_type": "code",
      "execution_count": null,
      "id": "553f4a81",
      "metadata": {},
      "outputs": [],
      "source": [
        "#| export\n",
        "def TabContainer(*li, # Components\n",
        "                  cls='', # Additional classes on the `Ul`\n",
        "                  alt=False, # Whether to use an alternative tab style\n",
        "                  **kwargs # Additional args for the `Ul`\n",
        "                 )->FT: # Tab container\n",
        "    \"A TabContainer where children will be different tabs\"\n",
        "    cls = stringify(cls)\n",
        "    return Ul(cls=(f\"uk-tab{'-alt' if alt else ''}\",stringify(cls)),**kwargs)(*li)"
      ]
    },
    {
      "cell_type": "markdown",
      "id": "6348c5f3",
      "metadata": {},
      "source": [
        "## Cards"
      ]
    },
    {
      "cell_type": "code",
      "execution_count": null,
      "id": "759a0de3",
      "metadata": {},
      "outputs": [],
      "source": [
        "#| export\n",
        "class CardT(VEnum):\n",
        "    'Card styles from UIkit'\n",
        "    def _generate_next_value_(name, start, count, last_values): return str2ukcls('card', name)\n",
        "    default = auto()\n",
        "    primary = auto()\n",
        "    secondary = auto()\n",
        "    destructive = auto()\n",
        "    hover = 'uk-card hover:shadow-lg hover:-translate-y-1 transition-all duration-200'"
      ]
    },
    {
      "cell_type": "code",
      "execution_count": null,
      "id": "c165a0a6",
      "metadata": {},
      "outputs": [],
      "source": [
        "#| export\n",
        "def CardTitle(*c, # Components (often a string)\n",
        "              cls=(), # Additional classes on the div\n",
        "              **kwargs # Additional args for the div\n",
        "             ): \n",
        "    \"Creates a card title\"\n",
        "    return fh.Div(*c, cls=('uk-card-title',stringify(cls)), **kwargs)\n",
        "\n",
        "def CardHeader(*c, # Components that goes in the header (often a `ModalTitle` and description)\n",
        "               cls=(), # Additional classes on the div\n",
        "               **kwargs # Additional args for the div\n",
        "              )->FT: # Container for the header of a card\n",
        "    \"Creates a card header\"\n",
        "    return fh.Div(*c, cls=('uk-card-header',stringify(cls)), **kwargs)\n",
        "\n",
        "def CardBody(*c, # Components that go in the body (Main content of the card such as a form, and image, a signin form, etc.)\n",
        "              cls=(), # Additional classes on the div\n",
        "              **kwargs # Additional args for the div\n",
        "             )->FT: # Container for the body of a card\n",
        "    \"Creates a card body\"\n",
        "    return fh.Div(*c, cls=('uk-card-body',stringify(cls)), **kwargs)\n",
        "\n",
        "def CardFooter(*c, # Components that go in the footer (often a `ModalCloseButton`)\n",
        "               cls=(), # Additional classes on the div\n",
        "               **kwargs # Additional args for the div\n",
        "              )->FT: # Container for the footer of a card\n",
        "    \"Creates a card footer\"\n",
        "    return fh.Div(*c, cls=('uk-card-footer',stringify(cls)), **kwargs)\n",
        "\n",
        "def CardContainer(*c, # Components (typically `CardHeader`, `CardBody`, `CardFooter`)\n",
        "                   cls=CardT.default, # Additional classes on the div\n",
        "                   **kwargs # Additional args for the div\n",
        "                  )->FT: # Container for a card\n",
        "    \"Creates a card container\"\n",
        "    return fh.Div(*c, cls=('uk-card',stringify(cls)), **kwargs)"
      ]
    },
    {
      "cell_type": "code",
      "execution_count": null,
      "id": "cd8a16e4",
      "metadata": {},
      "outputs": [],
      "source": [
        "#|export\n",
        "def Card(*c, # Components that go in the body (Main content of the card such as a form, and image, a signin form, etc.)\n",
        "        header:FT|Iterable[FT]=None, # Component(s) that goes in the header (often a `ModalTitle` and a subtitle)\n",
        "        footer:FT|Iterable[FT]=None,  # Component(s) that goes in the footer (often a `ModalCloseButton`)\n",
        "        body_cls='space-y-6', # classes for the body\n",
        "        header_cls=(), # classes for the header\n",
        "        footer_cls=(), # classes for the footer\n",
        "        cls=(), #class for outermost component\n",
        "        **kwargs # additional arguments for the `CardContainer`\n",
        "        )->FT: # Card component\n",
        "    \"Creates a Card with a header, body, and footer\"\n",
        "    header_cls, footer_cls, body_cls, cls = map(stringify, (header_cls, footer_cls, body_cls, cls))\n",
        "    res = []\n",
        "    if header: res.append(CardHeader(cls=header_cls)(header))\n",
        "    res.append(CardBody(cls=body_cls)(*c))\n",
        "    if footer: res.append(CardFooter(cls=footer_cls)(footer))\n",
        "    return CardContainer(cls=cls, **kwargs)(*res)"
      ]
    },
    {
      "cell_type": "markdown",
      "id": "e86be034",
      "metadata": {},
      "source": [
        "## Tables"
      ]
    },
    {
      "cell_type": "code",
      "execution_count": null,
      "id": "7d0038f9",
      "metadata": {},
      "outputs": [],
      "source": [
        "#| export\n",
        "class TableT(VEnum):\n",
        "    def _generate_next_value_(name, start, count, last_values): return str2ukcls('table', name)\n",
        "    divider = auto()\n",
        "    striped = auto()\n",
        "    hover = auto()\n",
        "    sm = auto()\n",
        "    lg = auto()\n",
        "    justify = auto()\n",
        "    middle = auto()\n",
        "    responsive = auto()"
      ]
    },
    {
      "cell_type": "code",
      "execution_count": null,
      "id": "e942edd1",
      "metadata": {},
      "outputs": [],
      "source": [
        "#| export\n",
        "def Table(*c, # Components (typically `Thead`, `Tbody`, `Tfoot`)\n",
        "          cls=(TableT.middle, TableT.divider, TableT.hover, TableT.sm), # Additional classes on the table\n",
        "          **kwargs # Additional args for the table\n",
        "         )->FT: # Table component\n",
        "    \"Creates a table\"\n",
        "    return fh.Table(cls=('uk-table', stringify(cls)), *c, **kwargs)"
      ]
    },
    {
      "cell_type": "code",
      "execution_count": null,
      "id": "30bbdbed",
      "metadata": {},
      "outputs": [],
      "source": [
        "#| export\n",
        "def _TableCell(Component, \n",
        "               *c, # Components that go in the cell\n",
        "               cls=(), # Additional classes on the cell container\n",
        "               shrink=False, # Whether to shrink the cell\n",
        "               expand=False, # Whether to expand the cell\n",
        "               small=False, # Whether to use a small table\n",
        "               **kwargs # Additional args for the cell\n",
        "              )->FT: # Table cell\n",
        "    \"Creates a table cell\"\n",
        "    cls = stringify(cls)\n",
        "    if shrink: cls += ' uk-table-shrink'\n",
        "    if expand: cls += ' uk-table-expand'\n",
        "    if small: cls += ' uk-table-small'\n",
        "    return Component(*c,cls=cls, **kwargs)\n",
        "\n",
        "@delegates(_TableCell, but=['Component'])\n",
        "def Td(*c,**kwargs):  return _TableCell(fh.Td, *c, **kwargs)\n",
        "@delegates(_TableCell, but=['Component'])\n",
        "def Th(*c,**kwargs): return _TableCell(fh.Th, *c, **kwargs)\n",
        "\n",
        "def Tbody(*rows, cls=(), sortable=False, **kwargs): return fh.Tbody(*rows, cls=stringify(cls), uk_sortable=sortable, **kwargs)"
      ]
    },
    {
      "cell_type": "code",
      "execution_count": null,
      "id": "2cd41ae7",
      "metadata": {},
      "outputs": [],
      "source": [
        "#|export\n",
        "def TableFromLists(header_data:Sequence, # List of header data\n",
        "                   body_data:Sequence[Sequence], # List of lists of body data\n",
        "                   footer_data=None, # List of footer data\n",
        "                   header_cell_render=Th, # Function(content) -> FT that renders header cells\n",
        "                   body_cell_render=Td, # Function(key, content) -> FT that renders body cells\n",
        "                   footer_cell_render=Td, #  Function(key, content) -> FT that renders footer cells\n",
        "                   cls=(TableT.middle, TableT.divider, TableT.hover, TableT.sm), # Additional classes on the table\n",
        "                   sortable=False, # Whether to use sortable table\n",
        "                   **kwargs # Additional args for the table\n",
        "                  )->FT: # Table from lists\n",
        "    \"Creates a Table from a list of header data and a list of lists of body data\"\n",
        "    return Table(\n",
        "                Thead(Tr(*map(header_cell_render, header_data))),\n",
        "                Tbody(*[Tr(*map(body_cell_render, r)) for r in body_data], sortable=sortable),\n",
        "                Tfoot(Tr(*map(footer_cell_render, footer_data))) if footer_data else '',\n",
        "                cls=stringify(cls),    \n",
        "                **kwargs)"
      ]
    },
    {
      "cell_type": "code",
      "execution_count": null,
      "id": "fa3eebd7",
      "metadata": {},
      "outputs": [],
      "source": [
        "#| export\n",
        "def TableFromDicts(header_data:Sequence, # List of header data\n",
        "                   body_data:Sequence[dict], # List of dicts of body data\n",
        "                   footer_data=None, # List of footer data\n",
        "                   header_cell_render=Th, # Function(content) -> FT that renders header cells\n",
        "                   body_cell_render=lambda k,v : Td(v), # Function(key, content) -> FT that renders body cells\n",
        "                   footer_cell_render=lambda k,v : Td(v), #  Function(key, content) -> FT that renders footer cells\n",
        "                   cls=(TableT.middle, TableT.divider, TableT.hover, TableT.sm), # Additional classes on the table\n",
        "                   sortable=False, # Whether to use sortable table\n",
        "                   **kwargs # Additional args for the table\n",
        "                  )->FT: # Styled Table\n",
        "    \"Creates a Table from a list of header data and a list of dicts of body data\"\n",
        "    return Table(\n",
        "        Thead(Tr(*[header_cell_render(h) for h in header_data])),\n",
        "        Tbody(*[Tr(*[body_cell_render(k, r.get(k, '')) for k in header_data]) for r in body_data], sortable=sortable),\n",
        "        Tfoot(Tr(*[footer_cell_render(k, footer_data.get(k.lower(), '')) for k in header_data])) if footer_data else '',\n",
        "        cls=stringify(cls),    \n",
        "        **kwargs\n",
        "    )"
      ]
    },
    {
      "cell_type": "markdown",
      "id": "ff42d2d8",
      "metadata": {},
      "source": [
        "## Calendar, Date, Time"
      ]
    },
    {
      "cell_type": "code",
      "execution_count": null,
      "id": "a3004b07",
      "metadata": {},
      "outputs": [],
      "source": [
        "from datetime import datetime\n",
        "\n",
        "#| export\n",
        "def CalendarInput(\n",
        "    cls = \"\",  # Additional classes\n",
        "    today: bool = False,  # Automatically sets today as the active date.\n",
        "    jumpable: bool = False,  # Allow month and year selection\n",
        "    starts_with: int = 0,  # First day of the week (0 for Sunday, 1 for Monday)\n",
        "    disabled_dates: str | list[str] = None,  # A comma-separated list of dates to disable (YYYY-MM-DD)\n",
        "    marked_dates: str | list[str] = None,  # A comma-separated list of dates to add an indicator (YYYY-MM-DD)\n",
        "    view_date: str = None,  # Sets the initial view date of the calendar (YYYY-MM-DD)\n",
        "    min_date: str = None,  # Sets the minimum date that can be selected (YYYY-MM-DD)\n",
        "    max_date: str = None,  # Sets the maximum date that can be selected (YYYY-MM-DD)\n",
        "    selected_date: str = None,  # Sets the current value of the calendar (YYYY-MM-DD)\n",
        "    hidden_name: str = None,  # Sets the hidden name input field\n",
        "    i18n: str = None,  # Enables internationalization\n",
        "    **kwargs  # Additional arguments\n",
        ") -> str:\n",
        "    \"\"\"Creates a UIkit calendar component.\"\"\"\n",
        "    \n",
        "    # Validation bits for attributes that require YYYY-MM-DD formats\n",
        "    def _validate_date(date_value):\n",
        "        \"\"\"Validates if a given date string follows the YYYY-MM-DD format.\"\"\"\n",
        "        if isinstance(date_value, str):\n",
        "            try:\n",
        "                datetime.strptime(date_value, \"%Y-%m-%d\")\n",
        "                return True\n",
        "            except ValueError:\n",
        "                return False\n",
        "        return False\n",
        "    \n",
        "    validation_errors = []\n",
        "    date_attrs = {\n",
        "        \"view_date\": [view_date] if view_date else [],\n",
        "        \"min_date\": [min_date] if min_date else [],\n",
        "        \"max_date\": [max_date] if max_date else [],\n",
        "        \"disabled_dates\": disabled_dates.split(',') if isinstance(disabled_dates, str) else (disabled_dates if disabled_dates else []),\n",
        "        \"marked_dates\": marked_dates.split(',') if isinstance(marked_dates, str) else (marked_dates if marked_dates else []),\n",
        "    }\n",
        "    \n",
        "    for attr_name, attr_values in date_attrs.items():\n",
        "        if attr_values:\n",
        "            invalid_dates = [date for date in attr_values if date and not _validate_date(date)]\n",
        "            if invalid_dates:\n",
        "                validation_errors.append(f\"{attr_name} contains invalid dates: {', '.join(invalid_dates)}\")\n",
        "    \n",
        "    if validation_errors:\n",
        "        raise ValueError(\"\\n\".join(validation_errors))\n",
        "    \n",
        "    # Set the tag attributes\n",
        "    attrs = {\n",
        "        \"today\": today,\n",
        "        \"jumpable\": jumpable,\n",
        "        \"starts-with\": starts_with,\n",
        "        \"disabled-dates\": \",\".join(date_attrs[\"disabled_dates\"]) if date_attrs[\"disabled_dates\"] else None,\n",
        "        \"marked-dates\": \",\".join(date_attrs[\"marked_dates\"]) if date_attrs[\"marked_dates\"] else None,\n",
        "        \"view-date\": view_date,\n",
        "        \"min\": min_date,\n",
        "        \"max\": max_date,\n",
        "        \"value\": selected_date,\n",
        "        \"name\": hidden_name,\n",
        "        \"i18n\": i18n,\n",
        "    }\n",
        "    \n",
        "    attrs = {k: v for k, v in attrs.items() if v is not None}\n",
        "    \n",
        "    # Return the fastHTML web component\n",
        "    return fh.ft_html(\"uk-calendar\", cls=stringify(cls), **{**attrs, **kwargs})"
      ]
    },
    {
      "cell_type": "code",
      "execution_count": null,
      "id": "10f8a6cf",
      "metadata": {},
      "outputs": [
        {
          "data": {
            "text/markdown": [
              "```html\n",
              "<uk-calendar today jumpable starts-with=\"1\" disabled-dates=\"2025-02-10,2025-02-05\" marked-dates=\"2025-02-10,2025-02-05\" min=\"2025-02-01\" max=\"2025-02-15\"></uk-calendar>\n",
              "```"
            ],
            "text/plain": [
              "uk-calendar((),{'today': True, 'jumpable': True, 'starts-with': 1, 'disabled-dates': '2025-02-10,2025-02-05', 'marked-dates': '2025-02-10,2025-02-05', 'min': '2025-02-01', 'max': '2025-02-15', 'class': ''})"
            ]
          },
          "execution_count": null,
          "metadata": {},
          "output_type": "execute_result"
        }
      ],
      "source": [
        "ci = CalendarInput(\n",
        "    today=True, \n",
        "    jumpable=True, \n",
        "    starts_with=1, \n",
        "    min_date='2025-02-01', \n",
        "    max_date='2025-02-15',\n",
        "    disabled_dates='2025-02-10,2025-02-05',\n",
        "    marked_dates='2025-02-10,2025-02-05',\n",
        ")\n",
        "ci"
      ]
    },
    {
      "cell_type": "code",
      "execution_count": null,
      "id": "4980c063",
      "metadata": {},
      "outputs": [
        {
          "data": {
            "text/html": [
              "<iframe src=\"http://localhost:8008/_1M2OHhd3Q4qMJFcEZM5jrA\" style=\"width: 100%; height: auto; border: none;\" onload=\"{\n",
              "        let frame = this;\n",
              "        window.addEventListener('message', function(e) {\n",
              "            if (e.source !== frame.contentWindow) return; // Only proceed if the message is from this iframe\n",
              "            if (e.data.height) frame.style.height = (e.data.height+1) + 'px';\n",
              "        }, false);\n",
              "    }\" allow=\"accelerometer; autoplay; camera; clipboard-read; clipboard-write; display-capture; encrypted-media; fullscreen; gamepad; geolocation; gyroscope; hid; identity-credentials-get; idle-detection; magnetometer; microphone; midi; payment; picture-in-picture; publickey-credentials-get; screen-wake-lock; serial; usb; web-share; xr-spatial-tracking\"></iframe> "
            ],
            "text/plain": [
              "<IPython.core.display.HTML object>"
            ]
          },
          "execution_count": null,
          "metadata": {},
          "output_type": "execute_result"
        }
      ],
      "source": [
        "Show(ci)"
      ]
    },
    {
      "cell_type": "markdown",
      "id": "b91b0b27",
      "metadata": {},
      "source": [
        "## Markdown"
      ]
    },
    {
      "cell_type": "code",
      "execution_count": null,
      "id": "e7dd39c6",
      "metadata": {},
      "outputs": [],
      "source": [
        "#| export\n",
        "franken_class_map = {\n",
        "    'h1': 'uk-h1 text-4xl font-bold mt-12 mb-6',\n",
        "    'h2': 'uk-h2 text-3xl font-bold mt-10 mb-5', \n",
        "    'h3': 'uk-h3 text-2xl font-semibold mt-8 mb-4',\n",
        "    'h4': 'uk-h4 text-xl font-semibold mt-6 mb-3',\n",
        "    \n",
        "    # Body text and links\n",
        "    'p': 'text-lg leading-relaxed mb-6',\n",
        "    'a': 'uk-link text-primary hover:text-primary-focus underline',\n",
        "    \n",
        "    # Lists with proper spacing\n",
        "    'ul': 'uk-list uk-list-bullet space-y-2 mb-6 ml-6 text-lg',\n",
        "    'ol': 'uk-list uk-list-decimal space-y-2 mb-6 ml-6 text-lg',\n",
        "    'li': 'leading-relaxed',\n",
        "    \n",
        "    # Code and quotes\n",
        "    'pre': 'bg-base-200 rounded-lg p-4 mb-6',\n",
        "    'code': 'uk-codespan px-1',\n",
        "    'pre code': 'uk-codespan px-1 block overflow-x-auto',\n",
        "    'blockquote': 'uk-blockquote pl-4 border-l-4 border-primary italic mb-6',\n",
        "    \n",
        "    # Tables\n",
        "    'table': 'uk-table uk-table-divider uk-table-hover uk-table-small w-full mb-6',\n",
        "    'th': '!text-left p-2 font-semibold',\n",
        "    'td': 'p-2',\n",
        "    \n",
        "    # Other elements\n",
        "    'hr': 'uk-divider-icon my-8',\n",
        "    'img': 'max-w-full h-auto rounded-lg mb-6'\n",
        "}"
      ]
    },
    {
      "cell_type": "code",
      "execution_count": null,
      "id": "b4bcb8c6",
      "metadata": {},
      "outputs": [],
      "source": [
        "#| export\n",
        "def apply_classes(html_str:str, # Html string\n",
        "                  class_map=None, # Class map\n",
        "                  class_map_mods=None # Class map that will modify the class map map (for small changes to base map)\n",
        "                 )->str: # Html string with classes applied\n",
        "    \"Apply classes to html string\"\n",
        "    if not html_str: return html_str\n",
        "    # Handles \"Unicode strings with encoding declaration are not supported\":\n",
        "    if html_str[:100].lstrip().startswith('<?xml'): html_str = html_str.split('?>', 1)[1].strip()\n",
        "    class_map = ifnone(class_map, franken_class_map)\n",
        "    if class_map_mods: class_map = {**class_map, **class_map_mods}\n",
        "    try:\n",
        "        html_str = html.fragment_fromstring(html_str, create_parent=True)\n",
        "        for selector, classes in class_map.items():\n",
        "            # Handle descendant selectors (e.g., 'pre code')\n",
        "            xpath = '//' + '/descendant::'.join(selector.split())\n",
        "            for element in html_str.xpath(xpath):\n",
        "                existing_class = element.get('class', '')\n",
        "                new_class = f\"{existing_class} {classes}\".strip()\n",
        "                element.set('class', new_class)\n",
        "        return ''.join(etree.tostring(c, encoding='unicode', method='html') for c in html_str)\n",
        "    except (etree.ParserError,ValueError): return html_str"
      ]
    },
    {
      "cell_type": "code",
      "execution_count": null,
      "id": "7d943f5f",
      "metadata": {},
      "outputs": [],
      "source": [
        "_test = apply_classes(\"<div><h1>Hello, world!</h1></div>\", class_map_mods={'h1': 'uk-h1 my-4 mb-4'})\n",
        "assert _test == '<div><h1 class=\"uk-h1 my-4 mb-4\">Hello, world!</h1></div>'"
      ]
    },
    {
      "cell_type": "code",
      "execution_count": null,
      "id": "1f973ca3",
      "metadata": {},
      "outputs": [],
      "source": [
        "_test = apply_classes(\"\", class_map_mods={'h1': 'uk-h1 my-4 mb-4'})\n",
        "assert _test == ''"
      ]
    },
    {
      "cell_type": "code",
      "execution_count": null,
      "id": "0cf074d0",
      "metadata": {},
      "outputs": [
        {
          "data": {
            "text/plain": [
              "'<!-- why -->\\n'"
            ]
          },
          "execution_count": null,
          "metadata": {},
          "output_type": "execute_result"
        }
      ],
      "source": [
        "apply_classes(mistletoe.markdown('<!-- why -->'), franken_class_map, None)"
      ]
    },
    {
      "cell_type": "code",
      "execution_count": null,
      "id": "a2417a54",
      "metadata": {},
      "outputs": [],
      "source": [
        "#| export\n",
        "class FrankenRenderer(HTMLRenderer):\n",
        "    \"Custom renderer for Franken UI that handles image paths\"\n",
        "    def __init__(self, *args, img_dir=None, **kwargs):\n",
        "        super().__init__(*args, **kwargs)\n",
        "        self.img_dir = img_dir\n",
        "\n",
        "    def render_image(self, token):\n",
        "        \"Modify image paths if they're relative and self.img_dir is specified\"\n",
        "        template = '<img src=\"{}\" alt=\"{}\"{} class=\"max-w-full h-auto rounded-lg mb-6\">'\n",
        "        title = f' title=\"{token.title}\"' if hasattr(token, 'title') else ''\n",
        "        src = token.src\n",
        "        if self.img_dir and not src.startswith(('http://', 'https://', '/', 'attachment:', 'blob:', 'data:')):\n",
        "            src = f'{pathlib.Path(self.img_dir)}/{src}'\n",
        "        return template.format(src, token.children[0].content if token.children else '', title)"
      ]
    },
    {
      "cell_type": "code",
      "execution_count": null,
      "id": "b31876df",
      "metadata": {},
      "outputs": [],
      "source": [
        "#| export\n",
        "def render_md(md_content:str, # Markdown content\n",
        "             class_map=None, # Class map\n",
        "             class_map_mods=None, # Additional class map\n",
        "             img_dir:str=None, # Directory containing images\n",
        "             renderer=FrankenRenderer # custom renderer\n",
        "             )->FT: # Rendered markdown\n",
        "    \"Renders markdown using mistletoe and lxml with custom image handling\"\n",
        "    if md_content=='': return md_content\n",
        "    html_content = mistletoe.markdown(md_content, partial(renderer, img_dir=img_dir))\n",
        "    return NotStr(apply_classes(html_content, class_map, class_map_mods))"
      ]
    },
    {
      "cell_type": "code",
      "execution_count": null,
      "id": "00cc5859",
      "metadata": {},
      "outputs": [
        {
          "name": "stdout",
          "output_type": "stream",
          "text": [
            "<p class=\"text-lg leading-relaxed mb-6\"><img src=\"/users/isaac-flath/my_image.png\" alt=\"test\" title=\"\" class=\"max-w-full h-auto rounded-lg mb-6 max-w-full h-auto rounded-lg mb-6\"></p>\n",
            "\n",
            "<p class=\"text-lg leading-relaxed mb-6\"><img src=\"static/my_image.png\" alt=\"test\" title=\"\" class=\"max-w-full h-auto rounded-lg mb-6 max-w-full h-auto rounded-lg mb-6\"></p>\n",
            "\n",
            "<p class=\"text-lg leading-relaxed mb-6\"><img src=\"https://example.com/img.png\" alt=\"test\" title=\"\" class=\"max-w-full h-auto rounded-lg mb-6 max-w-full h-auto rounded-lg mb-6\"></p>\n",
            "\n",
            "<p class=\"text-lg leading-relaxed mb-6\"><img src=\"data:image/svg+xml;base64,PHN2ZyB3aWR0aD0iMTAwIiB\" alt=\"test\" title=\"\" class=\"max-w-full h-auto rounded-lg mb-6 max-w-full h-auto rounded-lg mb-6\"></p>\n",
            "\n"
          ]
        }
      ],
      "source": [
        "print(render_md('![test](/users/isaac-flath/my_image.png)', img_dir='static'))\n",
        "print(render_md('![test](my_image.png)', img_dir='static'))\n",
        "print(render_md('![test](https://example.com/img.png)', img_dir='static'))\n",
        "print(render_md('![test](data:image/svg+xml;base64,PHN2ZyB3aWR0aD0iMTAwIiB)', img_dir='static'))"
      ]
    },
    {
      "cell_type": "code",
      "execution_count": null,
      "id": "6a69f18f",
      "metadata": {},
      "outputs": [],
      "source": [
        "#| export\n",
        "def ThemePicker(color=True, radii=True, shadows=True, font=True, mode=True, cls='p-4', custom_themes=[]):\n",
        "    \"Theme picker component with configurable sections\"\n",
        "    def _opt(val, txt, **kwargs): return Option(txt, value=val, **kwargs)\n",
        "    def _optgrp(key, lbl, opts): return fh.Optgroup(data_key=key, label=lbl)(*opts)\n",
        "    \n",
        "    groups = []\n",
        "    if color: groups.append(_optgrp('theme', 'Theme', [\n",
        "        _opt('uk-theme-zinc', 'Zinc', data_hex='#52525b', selected=True),\n",
        "        *[_opt(f'uk-theme-{c.lower()}', c, data_hex=h) for c,h in \n",
        "          [('Slate','#64748b'),('Stone','#78716c'),('Gray','#6b7280'),\n",
        "           ('Neutral','#737373'),('Red','#dc2626'),('Rose','#e11d48'),\n",
        "           ('Orange','#f97316'),('Green','#16a34a'),('Blue','#2563eb'),\n",
        "           ('Yellow','#facc15'),('Violet','#7c3aed'),*custom_themes]]]))\n",
        "    if radii: groups.append(_optgrp('radii', 'Radii', [\n",
        "        _opt('uk-radii-none','None'), _opt('uk-radii-sm','Small'),\n",
        "        _opt('uk-radii-md','Medium',selected=True), _opt('uk-radii-lg','Large')]))\n",
        "    if shadows: groups.append(_optgrp('shadows', 'Shadows', [\n",
        "        _opt('uk-shadows-none','None'), _opt('uk-shadows-sm','Small',selected=True),\n",
        "        _opt('uk-shadows-md','Medium'), _opt('uk-shadows-lg','Large')]))\n",
        "    if font: groups.append(_optgrp('font', 'Font', [\n",
        "        _opt('uk-font-sm','Small',selected=True), _opt('uk-font-base','Default')]))\n",
        "    if mode: groups.append(_optgrp('mode', 'Mode', [\n",
        "        _opt('light','Light',data_icon='sun'), _opt('dark','Dark',data_icon='moon')]))\n",
        "    from fasthtml.components import Uk_theme_switcher\n",
        "    return Div(Uk_theme_switcher(fh.Select(*groups, hidden=True),  id=\"theme-switcher\"), cls=stringify(cls))"
      ]
    },
    {
      "cell_type": "code",
      "execution_count": null,
      "id": "f10bf966",
      "metadata": {},
      "outputs": [
        {
          "data": {
            "text/html": [
              "<iframe src=\"http://localhost:8008/_e4Eg8nF_RwW83YiAyQ9dyA\" style=\"width: 100%; height: auto; border: none;\" onload=\"{\n",
              "        let frame = this;\n",
              "        window.addEventListener('message', function(e) {\n",
              "            if (e.source !== frame.contentWindow) return; // Only proceed if the message is from this iframe\n",
              "            if (e.data.height) frame.style.height = (e.data.height+1) + 'px';\n",
              "        }, false);\n",
              "    }\" allow=\"accelerometer; autoplay; camera; clipboard-read; clipboard-write; display-capture; encrypted-media; fullscreen; gamepad; geolocation; gyroscope; hid; identity-credentials-get; idle-detection; magnetometer; microphone; midi; payment; picture-in-picture; publickey-credentials-get; screen-wake-lock; serial; usb; web-share; xr-spatial-tracking\"></iframe> "
            ],
            "text/plain": [
              "<IPython.core.display.HTML object>"
            ]
          },
          "execution_count": null,
          "metadata": {},
          "output_type": "execute_result"
        }
      ],
      "source": [
        "Show(ThemePicker())"
      ]
    },
    {
      "cell_type": "markdown",
      "id": "55cb49c1",
      "metadata": {},
      "source": [
        "### Insertable Select"
      ]
    },
    {
      "cell_type": "markdown",
      "id": "1e931722",
      "metadata": {},
      "source": [
        "> Since the `LabelSelect()` component already exists, we will simply add the `insertable=True` param and test it's viability with htmx:"
      ]
    },
    {
      "cell_type": "code",
      "execution_count": null,
      "id": "a6af684a",
      "metadata": {},
      "outputs": [],
      "source": [
        "@rt\n",
        "def test_form(email:str):\n",
        "    return Span('Server Received: ', Output(email), cls=\"border-b p-2\")"
      ]
    },
    {
      "cell_type": "code",
      "execution_count": null,
      "id": "e767c812",
      "metadata": {},
      "outputs": [],
      "source": [
        "select = Form(LabelSelect(\n",
        "                      Option(\"Select a verified email to display\", value=\"\", selected=True, disabled=True),\n",
        "                     *[Option(o, value=o) for o in ('m@example.com', 'm@yahoo.com', 'm@cloud.com')],  \n",
        "                     label=\"Email\", id=\"email\", name=\"email\",\n",
        " insertable=True), Button('Submit', cls=ButtonT.primary+' uk-btn'), hx_post=test_form, hx_swap=\"beforeend\", cls='grid gap-3 mx-auto mt-4 w-1/2')"
      ]
    },
    {
      "cell_type": "code",
      "execution_count": null,
      "id": "959cc162",
      "metadata": {},
      "outputs": [
        {
          "data": {
            "text/html": [
              "<iframe src=\"http://localhost:8008/_KeYqiKxMSHmGRSA67cvXIw\" style=\"width: 100%; height: 350px; border: none;\" onload=\"\" allow=\"accelerometer; autoplay; camera; clipboard-read; clipboard-write; display-capture; encrypted-media; fullscreen; gamepad; geolocation; gyroscope; hid; identity-credentials-get; idle-detection; magnetometer; microphone; midi; payment; picture-in-picture; publickey-credentials-get; screen-wake-lock; serial; usb; web-share; xr-spatial-tracking\"></iframe> "
            ],
            "text/plain": [
              "<IPython.core.display.HTML object>"
            ]
          },
          "execution_count": null,
          "metadata": {},
          "output_type": "execute_result"
        }
      ],
      "source": [
        "Show(select, height=350)"
      ]
    },
    {
      "cell_type": "markdown",
      "id": "9162d6b0",
      "metadata": {},
      "source": [
        "### Persist client option on submit"
      ]
    },
    {
      "cell_type": "code",
      "execution_count": null,
      "id": "b7d00ca6",
      "metadata": {},
      "outputs": [],
      "source": [
        "@rt\n",
        "def submit_fruit(sess, fruit:str):\n",
        "    if not fruit: return\n",
        "    if fruit not in sess['options']: sess['options'].append(fruit.lower())\n",
        "    return Span('Server Received: ', Output(fruit.capitalize()))\n",
        "\n",
        "@rt\n",
        "def refresh(sess, clear:bool):\n",
        "    if clear: sess.clear()\n",
        "    return select2(sess)"
      ]
    },
    {
      "cell_type": "markdown",
      "id": "6b7a43c5",
      "metadata": {},
      "source": [
        "> Using `<optgroup>` for option label"
      ]
    },
    {
      "cell_type": "code",
      "execution_count": null,
      "id": "6ae03388",
      "metadata": {},
      "outputs": [],
      "source": [
        "@rt\n",
        "def select2(sess):\n",
        "    if not sess.get('options', ''):\n",
        "        sess['options'] = ['apple', 'orange', 'banana', 'mango']\n",
        "    btns = DivHStacked(cls=\"w-full justify-between\")(\n",
        "               Button('Clear (Persist)', hx_post=refresh.to(sess=sess, clear=False), hx_target=\"closest form\", hx_swap=\"outerHTML\",  cls=ButtonT.default),\n",
        "                Button('Clear (Refresh)', hx_post=refresh.to(sess=sess, clear=True), hx_target=\"closest form\", hx_swap=\"outerHTML\", cls=ButtonT.default),\n",
        "                Button('Submit', cls=ButtonT.primary))\n",
        "    \n",
        "    return Form(LabelSelect(\n",
        "                fh.Optgroup(label=\"Fruit\")(\n",
        "                    *map(lambda l: Option(l.capitalize(), value=l), sorted(sess['options']))\n",
        "                    ),\n",
        "                    label=\"Fruit picker\", id=\"fruit\", name=\"fruit\",\n",
        "                    icon=True, insertable=\"true\", placeholder=\"Choose a fruit...\",\n",
        "                    cls_custom=\"button: uk-input-fake justify-between w-full; dropdown: w-full\"),\n",
        "                   btns,hx_post=submit_fruit, hx_swap=\"beforeend\",\n",
        "               cls='grid gap-2 mx-auto mt-4 w-1/2')"
      ]
    },
    {
      "cell_type": "code",
      "execution_count": null,
      "id": "ed0e86b3",
      "metadata": {},
      "outputs": [
        {
          "data": {
            "text/html": [
              "<iframe src=\"http://localhost:8008/select2\" style=\"width: 100%; height: 350px; border: none;\" onload=\"\" allow=\"accelerometer; autoplay; camera; clipboard-read; clipboard-write; display-capture; encrypted-media; fullscreen; gamepad; geolocation; gyroscope; hid; identity-credentials-get; idle-detection; magnetometer; microphone; midi; payment; picture-in-picture; publickey-credentials-get; screen-wake-lock; serial; usb; web-share; xr-spatial-tracking\"></iframe> "
            ],
            "text/plain": [
              "<IPython.core.display.HTML object>"
            ]
          },
          "execution_count": null,
          "metadata": {},
          "output_type": "execute_result"
        }
      ],
      "source": [
        "Show(select2, height=350)"
      ]
    },
    {
      "cell_type": "markdown",
      "id": "3d822070",
      "metadata": {},
      "source": [
        "### Light Box"
      ]
    },
    {
      "cell_type": "code",
      "execution_count": null,
      "id": "1a0b3bef",
      "metadata": {},
      "outputs": [],
      "source": [
        "#| export\n",
        "def LightboxContainer(*lightboxitem, # `LightBoxItem`s that will be inside lightbox\n",
        "                      data_uk_lightbox='counter: true', # See https://franken-ui.dev/docs/2.0/lightbox for advanced options\n",
        "                      **kwargs # Additional options for outer container\n",
        "                     )->FT: # Lightbox\n",
        "    \"Lightbox container that will hold `LightboxItems`\"\n",
        "    return fh.Div(*lightboxitem, data_uk_lightbox=data_uk_lightbox, **kwargs)"
      ]
    },
    {
      "cell_type": "code",
      "execution_count": null,
      "id": "285ec264",
      "metadata": {},
      "outputs": [],
      "source": [
        "#| export\n",
        "def LightboxItem(*c, # Component that when clicked will open the lightbox (often a button)\n",
        "                 href, # Href to image, youtube video, vimeo, google maps, etc.\n",
        "                 data_alt=None, # Alt text for the lightbox item/image\n",
        "                 data_caption=None, # Caption for the item that shows below it\n",
        "                 cls='', # Class for the A tag (often nothing or `uk-btn`)\n",
        "                 **kwargs # Additional args for the `A` tag\n",
        "                )->FT: # A(... href, data_alt, cls., ...)\n",
        "    \"Anchor tag with appropriate structure to go inside a `LightBoxContainer`\"\n",
        "    return fh.A(*c, href=href, data_alt=data_alt, data_caption=data_caption, cls=stringify(cls), **kwargs)"
      ]
    },
    {
      "cell_type": "code",
      "execution_count": null,
      "id": "904b3eaa",
      "metadata": {},
      "outputs": [],
      "source": [
        "# Show(\n",
        "#     LightboxContainer(\n",
        "#         LightboxItem(Button(\"Open\"), href='https://picsum.photos/id/100/1280/720.webp', data_alt='alt text stuff', data_caption='my caption'),\n",
        "#     ),\n",
        "#     height=400\n",
        "# )"
      ]
    },
    {
      "cell_type": "code",
      "execution_count": null,
      "id": "11058ff9",
      "metadata": {},
      "outputs": [],
      "source": [
        "# Show(\n",
        "#     LightboxContainer(\n",
        "#         LightboxItem(Button(\"Open\"), href='https://picsum.photos/id/100/1280/720.webp', data_alt='alt text stuff', data_caption='my caption'),\n",
        "#         LightboxItem(href='https://picsum.photos/id/101/1280/720.webp', data_alt='alt text stuff', data_caption='my caption'),\n",
        "#         LightboxItem(href='https://picsum.photos/id/102/1280/720.webp', data_alt='alt text stuff', data_caption='my caption'),\n",
        "#     ),\n",
        "#     height=400\n",
        "# )"
      ]
    },
    {
      "cell_type": "code",
      "execution_count": null,
      "id": "2c6448f8",
      "metadata": {},
      "outputs": [],
      "source": [
        "# Show(\n",
        "#     LightboxContainer(\n",
        "#         LightboxItem(Button(\"Open\"), href='https://yootheme.com/site/images/media/yootheme-pro.mp4'),\n",
        "#         LightboxItem(Button(\"Open\"), href='https://www.youtube.com/watch?v=c2pz2mlSfXA'),\n",
        "#         LightboxItem(Button(\"Open\"), href='https://vimeo.com/1084537'),\n",
        "#         LightboxItem(Button(\"Open\"), data_type='iframe', href='https://www.google.com/maps/embed?pb=!1m18!1m12!1m3!1d4740.819266853735!2d9.99008871708242!3d53.550454675412404!2m3!1f0!2f0!3f0!3m2!1i1024!2i768!4f13.1!3m3!1m2!1s0x0%3A0x3f9d24afe84a0263!2sRathaus!5e0!3m2!1sde!2sde!4v1499675200938')\n",
        "# ),\n",
        "#     height=400\n",
        "# )"
      ]
    },
    {
      "cell_type": "markdown",
      "id": "b50d8270",
      "metadata": {},
      "source": [
        "### Apex Charts"
      ]
    },
    {
      "cell_type": "markdown",
      "id": "626d7354",
      "metadata": {},
      "source": [
        "FrankenUI supports [ApexCharts](https://franken-ui.dev/docs/2.0/chart-introduction) which is a javascript [library](https://apexcharts.com/) for rendering charts. \n",
        "\n",
        "ApexCharts supports many different chart types like line charts, scatter plots and bar charts. See the full list [here](https://apexcharts.com/javascript-chart-demos/).\n",
        "\n",
        "To render a simple line chart we need to include the ApexChart [js](https://cdn.jsdelivr.net/npm/franken-ui@2.0.0/dist/js/chart.iife.js) in our app headers and then generate the following html.\n",
        "\n",
        "```html\n",
        "<div class=\"max-w-md max-h-md\">\n",
        "    <uk-chart>\n",
        "        <script type=\"application/json\">\n",
        "        {\n",
        "            \"chart\": {\"type\": \"line\", \"zoom\": {\"enabled\": false}, \"toolbar\": {\"show\": false}},\n",
        "            \"series\": [{\"name\": \"Desktops\", \"data\": [186, 305, 237, 73, 209, 214, 355]}], \n",
        "            \"xaxis\": {\"categories\": [\"Jan\", \"Feb\", \"Mar\", \"Apr\", \"May\", \"Jun\", \"Jul\"]}\n",
        "        }\n",
        "        </script>\n",
        "    </uk-chart>\n",
        "</div>\n",
        "```"
      ]
    },
    {
      "cell_type": "markdown",
      "id": "4cab7bd6",
      "metadata": {},
      "source": [
        "Let's create a simple component that will take a dictionary that describes the chart and create the html shown above."
      ]
    },
    {
      "cell_type": "code",
      "execution_count": null,
      "id": "124849e8",
      "metadata": {},
      "outputs": [],
      "source": [
        "#| export\n",
        "def ApexChart(*, \n",
        "              opts:Dict, # ApexChart options used to render your chart (e.g. {\"chart\":{\"type\":\"line\"}, ...})\n",
        "              cls: Enum | str | tuple = (), # Classes for the outer container\n",
        "              **kws, # Additional args for the outer container\n",
        "              )->FT:  # Div(Uk_chart(Script(...)))\n",
        "    \"Apex chart component\"\n",
        "    js=NotStr(f\"<script type='application/json'>{json.dumps(opts)}</script>\")\n",
        "    return Div(Uk_chart(js), cls=stringify(cls), **kws)"
      ]
    },
    {
      "cell_type": "markdown",
      "id": "4bf68297",
      "metadata": {},
      "source": [
        "Let's render a simple line chart example."
      ]
    },
    {
      "cell_type": "code",
      "execution_count": null,
      "id": "08c8c968",
      "metadata": {},
      "outputs": [
        {
          "data": {
            "text/markdown": [
              "```html\n",
              "<div class=\"max-w-md max-h-md\">\n",
              "<uk-chart><script type='application/json'>{\"chart\": {\"type\": \"line\", \"zoom\": {\"enabled\": false}, \"toolbar\": {\"show\": false}}, \"series\": [{\"name\": \"Desktops\", \"data\": [186, 305, 237, 73, 209, 214, 355]}], \"xaxis\": {\"categories\": [\"Jan\", \"Feb\", \"Mar\", \"Apr\", \"May\", \"Jun\", \"Jul\"]}}</script></uk-chart></div>\n",
              "\n",
              "```"
            ],
            "text/plain": [
              "div((uk-chart(('<script type=\\'application/json\\'>{\"chart\": {\"type\": \"line\", \"zoom\": {\"enabled\": false}, \"toolbar\": {\"show\": false}}, \"series\": [{\"name\": \"Desktops\", \"data\": [186, 305, 237, 73, 209, 214, 355]}], \"xaxis\": {\"categories\": [\"Jan\", \"Feb\", \"Mar\", \"Apr\", \"May\", \"Jun\", \"Jul\"]}}</script>',),{}),),{'class': 'max-w-md max-h-md'})"
            ]
          },
          "execution_count": null,
          "metadata": {},
          "output_type": "execute_result"
        }
      ],
      "source": [
        "chart = ApexChart(\n",
        "    opts={\n",
        "        \"chart\": {\"type\": \"line\", \"zoom\": {\"enabled\": False}, \"toolbar\": {\"show\": False}},\n",
        "        \"series\":[{\"name\": \"Desktops\", \"data\": [186, 305, 237, 73, 209, 214, 355]}],\n",
        "        \"xaxis\": {\"categories\":[\"Jan\", \"Feb\", \"Mar\", \"Apr\", \"May\", \"Jun\", \"Jul\"]}\n",
        "    },\n",
        "    cls='max-w-md max-h-md'\n",
        ")\n",
        "chart"
      ]
    },
    {
      "cell_type": "code",
      "execution_count": null,
      "id": "1158ce84",
      "metadata": {},
      "outputs": [
        {
          "data": {
            "text/html": [
              "<iframe src=\"http://localhost:8008/_w-F-1uWHTBW0FXeyZLm1Ww\" style=\"width: 100%; height: auto; border: none;\" onload=\"{\n",
              "        let frame = this;\n",
              "        window.addEventListener('message', function(e) {\n",
              "            if (e.source !== frame.contentWindow) return; // Only proceed if the message is from this iframe\n",
              "            if (e.data.height) frame.style.height = (e.data.height+1) + 'px';\n",
              "        }, false);\n",
              "    }\" allow=\"accelerometer; autoplay; camera; clipboard-read; clipboard-write; display-capture; encrypted-media; fullscreen; gamepad; geolocation; gyroscope; hid; identity-credentials-get; idle-detection; magnetometer; microphone; midi; payment; picture-in-picture; publickey-credentials-get; screen-wake-lock; serial; usb; web-share; xr-spatial-tracking\"></iframe> "
            ],
            "text/plain": [
              "<IPython.core.display.HTML object>"
            ]
          },
          "execution_count": null,
          "metadata": {},
          "output_type": "execute_result"
        }
      ],
      "source": [
        "Show(chart)"
      ]
    },
    {
      "cell_type": "markdown",
      "id": "36e36f28",
      "metadata": {},
      "source": [
        "To include the ApexChart js in your app headers set `apex_charts=True` like this\n",
        "\n",
        "`app, rt = fast_app(hdrs=Theme.blue.headers(apex_charts=True))`"
      ]
    },
    {
      "cell_type": "code",
      "execution_count": null,
      "id": "a5941f47",
      "metadata": {},
      "outputs": [],
      "source": [
        "def qshow(*c, height='auto'):\n",
        "    html = Html(Head(*Theme.blue.headers(mode='light')), Body(*c))\n",
        "    return show(html, iframe=True, height=height)"
      ]
    },
    {
      "cell_type": "markdown",
      "id": "ff5eb9ba",
      "metadata": {},
      "source": [
        "### JS Scrollspy"
      ]
    },
    {
      "cell_type": "code",
      "execution_count": null,
      "id": "f96c799e",
      "metadata": {},
      "outputs": [],
      "source": [
        "#| export\n",
        "def ScrollSpy(headings=[1,2,3,4,5], # Heading levels to map section/links from\n",
        "              active_styles:str='color: hsl(var(--foreground));font-weight:600', # Styles applied to active link\n",
        "              target_sel:str='body', # Container to render scrollspy links from,\n",
        "              **kwargs\n",
        "              )->FT:\n",
        "    \"Standalone javascript scrollspy implementation, mapping heading levels into link/sections\"\n",
        "    js = \"\"\"\n",
        "import scrollSpy from 'https://cdn.jsdelivr.net/npm/@sidsbrmnn/scrollspy@1.x/+esm';\n",
        "(() => {\n",
        "    const sel='%s', hs=Array.from(htmx.findAll(htmx.find('%s'), sel));\n",
        "    if(!hs.length) return;\n",
        "    const cnt={}, slug=t=>{t=t.toLowerCase().trim().replace(/[^a-z0-9\\\\s-]/g,'').replace(/\\\\s+/g,'-').replace(/-+/g,'-')||'section';\n",
        "    const c=cnt[t]=(cnt[t]||0)+1;return c>1?`${t}-${c-1}`:t};\n",
        "    const nav=document.querySelector('#scrollspy-nav ol');\n",
        "    for(const h of hs){\n",
        "        const id=slug(h.textContent), p=h.parentNode;\n",
        "        if(!p.id) p.id=id;\n",
        "        if(p.matches('section')) continue;\n",
        "        if(!p.classList.contains('uk-section')) {\n",
        "            const s=document.createElement('section');\n",
        "            s.id=id; p.insertBefore(s,h); s.appendChild(h);\n",
        "            let n=s.nextSibling;\n",
        "            while(n && !(n.matches && n.matches(sel))){const nx=n.nextSibling; s.appendChild(n); n=nx;}}\n",
        "        const li=document.createElement('li'), a=document.createElement('a');\n",
        "        a.href='#'+id; a.textContent=h.textContent.trim();\n",
        "        a.style.textIndent = `${((parseInt(h.tagName[1])-1)*0.75)}rem`;\n",
        "        li.className='border-l-4 has-[.active]:border-l-[hsl(var(--primary))]';\n",
        "        a.className=`p-1 hover:underline scrollspy-item block text-sm text-muted-foreground truncate`;\n",
        "        li.appendChild(a); nav.appendChild(li);}\n",
        "    const sp = scrollSpy('#scrollspy-nav',{sectionSelector:'section,.uk-section',activeClass:'active',targetSelector:'.scrollspy-item',offset:100});\n",
        "})()\"\"\" % (','.join([f'h{i}' for i in headings]), target_sel)\n",
        "    return Nav(id='scrollspy-nav', cls='pr-1.5', **kwargs)(\n",
        "            Style(f'a.active {{ {active_styles}; }}'),\n",
        "            Ol(cls='empty:hidden flex flex-col h-full divide-y border-y'),\n",
        "            Script(Safe(js), type='module'))"
      ]
    },
    {
      "cell_type": "markdown",
      "id": "cabe0ef8",
      "metadata": {},
      "source": [
        "### Loader Button"
      ]
    },
    {
      "cell_type": "code",
      "execution_count": null,
      "id": "ebfb6fa9",
      "metadata": {},
      "outputs": [],
      "source": [
        "#| export\n",
        "def LoaderButton(*c, cls='uk-btn-default', icon_func=partial(UkIcon, icon='loader'), **kwargs):\n",
        "    \"A button that displays a loading spinner when an HTMX request is in flight\"\n",
        "    loader = icon_func(cls='group-disabled:animate-spin group-enabled:hidden absolute')\n",
        "    return Button(Span(*c, cls='group-disabled:opacity-0'), loader, hx_disabled_elt='this',\n",
        "            cls=stringify((cls, 'relative group disabled:cursor-not-allowed')), **kwargs)"
      ]
    },
    {
      "cell_type": "code",
      "execution_count": null,
      "id": "9b3ca865",
      "metadata": {},
      "outputs": [],
      "source": [
        "#qshow(LoaderButton('Execute Request', onclick='this.disabled=true;setTimeout(() => {this.disabled=false},2000)'), height=50)"
      ]
    },
    {
      "cell_type": "markdown",
      "id": "acb1824b",
      "metadata": {},
      "source": [
        "### Toggle Button"
      ]
    },
    {
      "cell_type": "code",
      "execution_count": null,
      "id": "000ccec9",
      "metadata": {},
      "outputs": [],
      "source": [
        "#| export\n",
        "def ToggleBtn(*c, cls='uk-btn-default', checked_cls='bg-primary', label_kw={}, **kwargs):\n",
        "    \"Styled toggle button component, acts like a switch\"\n",
        "    return fh.Label(c, Input(type='checkbox', hidden=True, **kwargs), tabindex=\"0\",\n",
        "                    cls=stringify(('uk-btn text-nowrap cursor-pointer', cls, *[f'has-[:checked]:{c}' for c in checked_cls.split()])))"
      ]
    },
    {
      "cell_type": "code",
      "execution_count": null,
      "id": "e94c4929",
      "metadata": {},
      "outputs": [],
      "source": [
        "#qshow(ToggleBtn('Toggle me!', checked_cls='bg-sky-400 shadow-inner shadow-zinc-700'), height=50)"
      ]
    },
    {
      "cell_type": "markdown",
      "id": "e05a5ad6",
      "metadata": {},
      "source": [
        "## export -"
      ]
    },
    {
      "cell_type": "code",
      "execution_count": null,
      "id": "909c1b2f",
      "metadata": {},
      "outputs": [],
      "source": [
        "#|hide\n",
        "from nbdev import nbdev_export\n",
        "nbdev_export()"
      ]
    },
    {
      "cell_type": "code",
      "execution_count": null,
      "id": "de35d138",
      "metadata": {},
      "outputs": [],
      "source": []
    }
  ],
  "metadata": {
    "kernelspec": {
      "display_name": "python3",
      "language": "python",
      "name": "python3"
    }
  },
  "nbformat": 4,
  "nbformat_minor": 5
}
